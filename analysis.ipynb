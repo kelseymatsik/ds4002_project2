{
 "cells": [
  {
   "cell_type": "markdown",
   "metadata": {},
   "source": [
    "# Import Libraries"
   ]
  },
  {
   "cell_type": "code",
   "execution_count": 23,
   "metadata": {},
   "outputs": [],
   "source": [
    "import pandas as pd\n",
    "import numpy as np\n",
    "import seaborn as sns\n",
    "import matplotlib.pyplot as plt\n",
    "import pmdarima\n",
    "\n",
    "from pmdarima import auto_arima\n",
    "from statsmodels.tsa.statespace.sarimax import SARIMAX\n",
    "from statsmodels.tsa.stattools import adfuller\n",
    "from statsmodels.graphics.tsaplots import plot_acf, plot_pacf\n"
   ]
  },
  {
   "cell_type": "markdown",
   "metadata": {},
   "source": [
    "# Data Preprocessing"
   ]
  },
  {
   "cell_type": "code",
   "execution_count": 4,
   "metadata": {},
   "outputs": [
    {
     "name": "stderr",
     "output_type": "stream",
     "text": [
      "/var/folders/r9/vr40l1ss0v71ty4xxtt_10j00000gn/T/ipykernel_82206/1070397913.py:4: UserWarning: Could not infer format, so each element will be parsed individually, falling back to `dateutil`. To ensure parsing is consistent and as-expected, please specify a format.\n",
      "  df[\"DateReported\"] = pd.to_datetime(df[\"DateReported\"], errors=\"coerce\", utc=True)\n"
     ]
    },
    {
     "data": {
      "text/html": [
       "<div>\n",
       "<style scoped>\n",
       "    .dataframe tbody tr th:only-of-type {\n",
       "        vertical-align: middle;\n",
       "    }\n",
       "\n",
       "    .dataframe tbody tr th {\n",
       "        vertical-align: top;\n",
       "    }\n",
       "\n",
       "    .dataframe thead th {\n",
       "        text-align: right;\n",
       "    }\n",
       "</style>\n",
       "<table border=\"1\" class=\"dataframe\">\n",
       "  <thead>\n",
       "    <tr style=\"text-align: right;\">\n",
       "      <th></th>\n",
       "      <th>RecordID</th>\n",
       "      <th>Offense</th>\n",
       "      <th>IncidentID</th>\n",
       "      <th>BlockNumber</th>\n",
       "      <th>StreetName</th>\n",
       "      <th>Agency</th>\n",
       "      <th>HourReported</th>\n",
       "      <th>ReportingOfficer</th>\n",
       "      <th>InSession</th>\n",
       "      <th>DayOfWeek</th>\n",
       "      <th>TimeOfDay_Adjusted</th>\n",
       "      <th>TimeOfDay</th>\n",
       "    </tr>\n",
       "    <tr>\n",
       "      <th>DateReported</th>\n",
       "      <th></th>\n",
       "      <th></th>\n",
       "      <th></th>\n",
       "      <th></th>\n",
       "      <th></th>\n",
       "      <th></th>\n",
       "      <th></th>\n",
       "      <th></th>\n",
       "      <th></th>\n",
       "      <th></th>\n",
       "      <th></th>\n",
       "      <th></th>\n",
       "    </tr>\n",
       "  </thead>\n",
       "  <tbody>\n",
       "    <tr>\n",
       "      <th>2019-10-05 04:48:36+00:00</th>\n",
       "      <td>25111</td>\n",
       "      <td>Animal Complaint</td>\n",
       "      <td>201900028849</td>\n",
       "      <td>NaN</td>\n",
       "      <td>JEFFERSON PARK AVE @ CLEVELAND AVE</td>\n",
       "      <td>CPD</td>\n",
       "      <td>48</td>\n",
       "      <td>Bise, Collin</td>\n",
       "      <td>1</td>\n",
       "      <td>Saturday</td>\n",
       "      <td>Dusk</td>\n",
       "      <td>Night</td>\n",
       "    </tr>\n",
       "    <tr>\n",
       "      <th>2019-10-05 05:13:53+00:00</th>\n",
       "      <td>25110</td>\n",
       "      <td>Animal Complaint</td>\n",
       "      <td>201900028854</td>\n",
       "      <td>NaN</td>\n",
       "      <td>1ST ST S / LANKFORD AVE</td>\n",
       "      <td>CPD</td>\n",
       "      <td>113</td>\n",
       "      <td>Reed, Patrick</td>\n",
       "      <td>1</td>\n",
       "      <td>Saturday</td>\n",
       "      <td>Dusk</td>\n",
       "      <td>Night</td>\n",
       "    </tr>\n",
       "    <tr>\n",
       "      <th>2019-10-05 05:36:03+00:00</th>\n",
       "      <td>25109</td>\n",
       "      <td>Larceny</td>\n",
       "      <td>201900028857</td>\n",
       "      <td>400.0</td>\n",
       "      <td>E MAIN ST</td>\n",
       "      <td>CPD</td>\n",
       "      <td>136</td>\n",
       "      <td>Babij, Joshua</td>\n",
       "      <td>1</td>\n",
       "      <td>Saturday</td>\n",
       "      <td>Dusk</td>\n",
       "      <td>Night</td>\n",
       "    </tr>\n",
       "    <tr>\n",
       "      <th>2019-10-05 06:18:28+00:00</th>\n",
       "      <td>25108</td>\n",
       "      <td>Larceny</td>\n",
       "      <td>201900028865</td>\n",
       "      <td>1500.0</td>\n",
       "      <td>UNIVERSITY AVE</td>\n",
       "      <td>CPD</td>\n",
       "      <td>218</td>\n",
       "      <td>Bise, Collin</td>\n",
       "      <td>1</td>\n",
       "      <td>Saturday</td>\n",
       "      <td>Dusk</td>\n",
       "      <td>Night</td>\n",
       "    </tr>\n",
       "    <tr>\n",
       "      <th>2019-10-05 11:48:08+00:00</th>\n",
       "      <td>25107</td>\n",
       "      <td>Stolen Property Offenses</td>\n",
       "      <td>201900028882</td>\n",
       "      <td>1100.0</td>\n",
       "      <td>AVON ST</td>\n",
       "      <td>CPD</td>\n",
       "      <td>748</td>\n",
       "      <td>HARPINE, MATTHEW</td>\n",
       "      <td>1</td>\n",
       "      <td>Saturday</td>\n",
       "      <td>Sunrise</td>\n",
       "      <td>Night</td>\n",
       "    </tr>\n",
       "  </tbody>\n",
       "</table>\n",
       "</div>"
      ],
      "text/plain": [
       "                           RecordID                   Offense    IncidentID  \\\n",
       "DateReported                                                                  \n",
       "2019-10-05 04:48:36+00:00     25111          Animal Complaint  201900028849   \n",
       "2019-10-05 05:13:53+00:00     25110          Animal Complaint  201900028854   \n",
       "2019-10-05 05:36:03+00:00     25109                   Larceny  201900028857   \n",
       "2019-10-05 06:18:28+00:00     25108                   Larceny  201900028865   \n",
       "2019-10-05 11:48:08+00:00     25107  Stolen Property Offenses  201900028882   \n",
       "\n",
       "                           BlockNumber                          StreetName  \\\n",
       "DateReported                                                                 \n",
       "2019-10-05 04:48:36+00:00          NaN  JEFFERSON PARK AVE @ CLEVELAND AVE   \n",
       "2019-10-05 05:13:53+00:00          NaN             1ST ST S / LANKFORD AVE   \n",
       "2019-10-05 05:36:03+00:00        400.0                           E MAIN ST   \n",
       "2019-10-05 06:18:28+00:00       1500.0                      UNIVERSITY AVE   \n",
       "2019-10-05 11:48:08+00:00       1100.0                             AVON ST   \n",
       "\n",
       "                          Agency  HourReported  ReportingOfficer  InSession  \\\n",
       "DateReported                                                                  \n",
       "2019-10-05 04:48:36+00:00    CPD            48      Bise, Collin          1   \n",
       "2019-10-05 05:13:53+00:00    CPD           113     Reed, Patrick          1   \n",
       "2019-10-05 05:36:03+00:00    CPD           136     Babij, Joshua          1   \n",
       "2019-10-05 06:18:28+00:00    CPD           218      Bise, Collin          1   \n",
       "2019-10-05 11:48:08+00:00    CPD           748  HARPINE, MATTHEW          1   \n",
       "\n",
       "                          DayOfWeek TimeOfDay_Adjusted TimeOfDay  \n",
       "DateReported                                                      \n",
       "2019-10-05 04:48:36+00:00  Saturday               Dusk     Night  \n",
       "2019-10-05 05:13:53+00:00  Saturday               Dusk     Night  \n",
       "2019-10-05 05:36:03+00:00  Saturday               Dusk     Night  \n",
       "2019-10-05 06:18:28+00:00  Saturday               Dusk     Night  \n",
       "2019-10-05 11:48:08+00:00  Saturday            Sunrise     Night  "
      ]
     },
     "execution_count": 4,
     "metadata": {},
     "output_type": "execute_result"
    }
   ],
   "source": [
    "df = pd.read_csv(\"./cleaned_data.csv\")  \n",
    "\n",
    "# Convert DateReported to datetime, sort by date, and set as index\n",
    "df[\"DateReported\"] = pd.to_datetime(df[\"DateReported\"], errors=\"coerce\", utc=True)\n",
    "df = df.sort_values(\"DateReported\")\n",
    "df.set_index(\"DateReported\", inplace=True)\n",
    "\n",
    "df.head(5)\n"
   ]
  },
  {
   "cell_type": "markdown",
   "metadata": {},
   "source": [
    "## Aggregate daily crime counts"
   ]
  },
  {
   "cell_type": "code",
   "execution_count": 37,
   "metadata": {},
   "outputs": [
    {
     "data": {
      "text/plain": [
       "<Axes: xlabel='DateReported'>"
      ]
     },
     "execution_count": 37,
     "metadata": {},
     "output_type": "execute_result"
    },
    {
     "data": {
      "image/png": "[encoded data removed]",
      "text/plain": [
       "<Figure size 800x300 with 1 Axes>"
      ]
     },
     "metadata": {},
     "output_type": "display_data"
    }
   ],
   "source": [
    "\n",
    "daily_crime_counts = df.resample(\"D\").size()\n",
    "daily_crime_counts.plot(figsize=(8, 3))"
   ]
  },
  {
   "cell_type": "code",
   "execution_count": 45,
   "metadata": {},
   "outputs": [
    {
     "data": {
      "text/plain": [
       "<Axes: ylabel='Count'>"
      ]
     },
     "execution_count": 45,
     "metadata": {},
     "output_type": "execute_result"
    },
    {
     "data": {
      "image/png": "[encoded data removed]",
      "text/plain": [
       "<Figure size 640x480 with 1 Axes>"
      ]
     },
     "metadata": {},
     "output_type": "display_data"
    }
   ],
   "source": [
    "# View distribution of daily crime counts \n",
    "sns.histplot(daily_crime_counts)"
   ]
  },
  {
   "cell_type": "markdown",
   "metadata": {},
   "source": [
    "# Check for Stationarity"
   ]
  },
  {
   "cell_type": "code",
   "execution_count": 41,
   "metadata": {},
   "outputs": [
    {
     "name": "stdout",
     "output_type": "stream",
     "text": [
      "ADF Statistic: -5.370645108654265.\n",
      "p-value: 3.902773357106362e-06\n",
      "The data is stationary. No differencing needed.\n"
     ]
    }
   ],
   "source": [
    "adf_test = adfuller(daily_crime_counts)\n",
    "print(f\"ADF Statistic: {adf_test[0]}.\")\n",
    "print(f\"p-value: {adf_test[1]}\")\n",
    "\n",
    "if adf_test[1] > 0.05:\n",
    "    print(\"The data is not stationary. Differencing may be needed.\")\n",
    "else:\n",
    "    print(\"The data is stationary. No differencing needed.\")"
   ]
  },
  {
   "cell_type": "markdown",
   "metadata": {},
   "source": [
    "# Fit SARIMA Model"
   ]
  },
  {
   "cell_type": "markdown",
   "metadata": {},
   "source": [
    "## Different m values\n",
    "m indicates seasonality. \n",
    "* m = 4 --> quarterly seasonality \n",
    "* m = 7 --> weekly seasonality \n",
    "* m = 12 --> monthly seasonality \n"
   ]
  },
  {
   "cell_type": "markdown",
   "metadata": {},
   "source": [
    "### m = 7 (weekly seasonality)"
   ]
  },
  {
   "cell_type": "code",
   "execution_count": 42,
   "metadata": {},
   "outputs": [
    {
     "name": "stdout",
     "output_type": "stream",
     "text": [
      "Performing stepwise search to minimize aic\n",
      " ARIMA(2,1,2)(1,0,1)[7] intercept   : AIC=inf, Time=2.01 sec\n",
      " ARIMA(0,1,0)(0,0,0)[7] intercept   : AIC=11490.817, Time=0.02 sec\n",
      " ARIMA(1,1,0)(1,0,0)[7] intercept   : AIC=11042.049, Time=0.19 sec\n",
      " ARIMA(0,1,1)(0,0,1)[7] intercept   : AIC=10512.150, Time=0.38 sec\n",
      " ARIMA(0,1,0)(0,0,0)[7]             : AIC=11488.820, Time=0.02 sec\n",
      " ARIMA(0,1,1)(0,0,0)[7] intercept   : AIC=10510.915, Time=0.17 sec\n",
      " ARIMA(0,1,1)(1,0,0)[7] intercept   : AIC=10512.038, Time=0.28 sec\n",
      " ARIMA(0,1,1)(1,0,1)[7] intercept   : AIC=inf, Time=1.36 sec\n",
      " ARIMA(1,1,1)(0,0,0)[7] intercept   : AIC=10496.758, Time=0.22 sec\n",
      " ARIMA(1,1,1)(1,0,0)[7] intercept   : AIC=10496.264, Time=0.41 sec\n",
      " ARIMA(1,1,1)(2,0,0)[7] intercept   : AIC=10488.755, Time=1.15 sec\n",
      " ARIMA(1,1,1)(2,0,1)[7] intercept   : AIC=10488.584, Time=2.86 sec\n",
      " ARIMA(1,1,1)(1,0,1)[7] intercept   : AIC=inf, Time=1.29 sec\n",
      " ARIMA(1,1,1)(2,0,2)[7] intercept   : AIC=inf, Time=4.27 sec\n",
      " ARIMA(1,1,1)(1,0,2)[7] intercept   : AIC=inf, Time=3.14 sec\n",
      " ARIMA(0,1,1)(2,0,1)[7] intercept   : AIC=10505.643, Time=2.92 sec\n",
      " ARIMA(1,1,0)(2,0,1)[7] intercept   : AIC=inf, Time=2.69 sec\n",
      " ARIMA(2,1,1)(2,0,1)[7] intercept   : AIC=10486.623, Time=4.23 sec\n",
      " ARIMA(2,1,1)(1,0,1)[7] intercept   : AIC=inf, Time=1.63 sec\n",
      " ARIMA(2,1,1)(2,0,0)[7] intercept   : AIC=10487.403, Time=2.10 sec\n",
      " ARIMA(2,1,1)(2,0,2)[7] intercept   : AIC=inf, Time=5.05 sec\n",
      " ARIMA(2,1,1)(1,0,0)[7] intercept   : AIC=10495.636, Time=0.69 sec\n",
      " ARIMA(2,1,1)(1,0,2)[7] intercept   : AIC=inf, Time=4.03 sec\n",
      " ARIMA(2,1,0)(2,0,1)[7] intercept   : AIC=inf, Time=3.34 sec\n",
      " ARIMA(3,1,1)(2,0,1)[7] intercept   : AIC=inf, Time=4.51 sec\n",
      " ARIMA(2,1,2)(2,0,1)[7] intercept   : AIC=inf, Time=4.64 sec\n",
      " ARIMA(1,1,2)(2,0,1)[7] intercept   : AIC=inf, Time=3.32 sec\n",
      " ARIMA(3,1,0)(2,0,1)[7] intercept   : AIC=inf, Time=4.03 sec\n",
      " ARIMA(3,1,2)(2,0,1)[7] intercept   : AIC=inf, Time=4.78 sec\n",
      " ARIMA(2,1,1)(2,0,1)[7]             : AIC=inf, Time=3.17 sec\n",
      "\n",
      "Best model:  ARIMA(2,1,1)(2,0,1)[7] intercept\n",
      "Total fit time: 68.937 seconds\n"
     ]
    }
   ],
   "source": [
    "# Dermine optimal SARIMA parameters\n",
    "\n",
    "# stepwise = True balances accuracy with speed and computational efficiency \n",
    "auto_model_m7 = auto_arima(daily_crime_counts, seasonal=True, m=7, stepwise=True, trace=True)"
   ]
  },
  {
   "cell_type": "code",
   "execution_count": 44,
   "metadata": {},
   "outputs": [
    {
     "name": "stdout",
     "output_type": "stream",
     "text": [
      "RUNNING THE L-BFGS-B CODE\n",
      "\n",
      "           * * *\n",
      "\n",
      "Machine precision = 2.220D-16\n",
      " N =            8     M =           10\n",
      "\n",
      "At X0         0 variables are exactly at the bounds\n",
      "\n",
      "At iterate    0    f=  2.90212D+00    |proj g|=  2.99219D-01\n"
     ]
    },
    {
     "name": "stderr",
     "output_type": "stream",
     "text": [
      " This problem is unconstrained.\n"
     ]
    },
    {
     "name": "stdout",
     "output_type": "stream",
     "text": [
      "\n",
      "At iterate    5    f=  2.87345D+00    |proj g|=  4.01070D-02\n",
      "\n",
      "At iterate   10    f=  2.86945D+00    |proj g|=  9.80660D-03\n",
      "\n",
      "At iterate   15    f=  2.86944D+00    |proj g|=  6.67243D-03\n",
      "\n",
      "At iterate   20    f=  2.86929D+00    |proj g|=  3.45079D-02\n",
      "\n",
      "At iterate   25    f=  2.86892D+00    |proj g|=  4.35484D-02\n",
      "\n",
      "At iterate   30    f=  2.86869D+00    |proj g|=  7.91547D-03\n",
      "\n",
      "At iterate   35    f=  2.86867D+00    |proj g|=  8.09688D-04\n",
      "\n",
      "At iterate   40    f=  2.86866D+00    |proj g|=  2.04257D-03\n",
      "\n",
      "At iterate   45    f=  2.86866D+00    |proj g|=  2.83736D-04\n",
      "\n",
      "           * * *\n",
      "\n",
      "Tit   = total number of iterations\n",
      "Tnf   = total number of function evaluations\n",
      "Tnint = total number of segments explored during Cauchy searches\n",
      "Skip  = number of BFGS updates skipped\n",
      "Nact  = number of active bounds at final generalized Cauchy point\n",
      "Projg = norm of the final projected gradient\n",
      "F     = final function value\n",
      "\n",
      "           * * *\n",
      "\n",
      "   N    Tit     Tnf  Tnint  Skip  Nact     Projg        F\n",
      "    8     45     66      1     0     0   2.837D-04   2.869D+00\n",
      "  F =   2.8686638336982226     \n",
      "\n",
      "CONVERGENCE: REL_REDUCTION_OF_F_<=_FACTR*EPSMCH             \n"
     ]
    },
    {
     "name": "stderr",
     "output_type": "stream",
     "text": [
      "\n",
      " Warning:  more than 10 function and gradient\n",
      "   evaluations in the last line search.  Termination\n",
      "   may possibly be caused by a bad search direction.\n"
     ]
    }
   ],
   "source": [
    "model_m7 = SARIMAX(daily_crime_counts, \n",
    "                 order=(2,1,1), \n",
    "                 seasonal_order=(2, 0, 1, 7), \n",
    "                 trend = \"c\")\n",
    "\n",
    "results_m7 = model_m7.fit(maxiter = 10000) # Use disp=False to hide optimization output"
   ]
  },
  {
   "cell_type": "code",
   "execution_count": 46,
   "metadata": {},
   "outputs": [
    {
     "data": {
      "text/html": [
       "<table class=\"simpletable\">\n",
       "<caption>SARIMAX Results</caption>\n",
       "<tr>\n",
       "  <th>Dep. Variable:</th>                 <td>y</td>               <th>  No. Observations:  </th>   <td>1825</td>   \n",
       "</tr>\n",
       "<tr>\n",
       "  <th>Model:</th>           <td>SARIMAX(2, 1, 1)x(2, 0, 1, 7)</td> <th>  Log Likelihood     </th> <td>-5235.311</td>\n",
       "</tr>\n",
       "<tr>\n",
       "  <th>Date:</th>                  <td>Sun, 16 Mar 2025</td>        <th>  AIC                </th> <td>10486.623</td>\n",
       "</tr>\n",
       "<tr>\n",
       "  <th>Time:</th>                      <td>17:33:42</td>            <th>  BIC                </th> <td>10530.693</td>\n",
       "</tr>\n",
       "<tr>\n",
       "  <th>Sample:</th>                   <td>10-05-2019</td>           <th>  HQIC               </th> <td>10502.880</td>\n",
       "</tr>\n",
       "<tr>\n",
       "  <th></th>                         <td>- 10-02-2024</td>          <th>                     </th>     <td> </td>    \n",
       "</tr>\n",
       "<tr>\n",
       "  <th>Covariance Type:</th>              <td>opg</td>              <th>                     </th>     <td> </td>    \n",
       "</tr>\n",
       "</table>\n",
       "<table class=\"simpletable\">\n",
       "<tr>\n",
       "      <td></td>         <th>coef</th>     <th>std err</th>      <th>z</th>      <th>P>|z|</th>  <th>[0.025</th>    <th>0.975]</th>  \n",
       "</tr>\n",
       "<tr>\n",
       "  <th>intercept</th> <td>  4.32e-05</td> <td>    0.001</td> <td>    0.040</td> <td> 0.968</td> <td>   -0.002</td> <td>    0.002</td>\n",
       "</tr>\n",
       "<tr>\n",
       "  <th>ar.L1</th>     <td>    0.1125</td> <td>    0.024</td> <td>    4.637</td> <td> 0.000</td> <td>    0.065</td> <td>    0.160</td>\n",
       "</tr>\n",
       "<tr>\n",
       "  <th>ar.L2</th>     <td>    0.0508</td> <td>    0.023</td> <td>    2.205</td> <td> 0.027</td> <td>    0.006</td> <td>    0.096</td>\n",
       "</tr>\n",
       "<tr>\n",
       "  <th>ma.L1</th>     <td>   -0.9693</td> <td>    0.006</td> <td> -152.040</td> <td> 0.000</td> <td>   -0.982</td> <td>   -0.957</td>\n",
       "</tr>\n",
       "<tr>\n",
       "  <th>ar.S.L7</th>   <td>    0.7107</td> <td>    0.147</td> <td>    4.832</td> <td> 0.000</td> <td>    0.422</td> <td>    0.999</td>\n",
       "</tr>\n",
       "<tr>\n",
       "  <th>ar.S.L14</th>  <td>    0.0332</td> <td>    0.029</td> <td>    1.129</td> <td> 0.259</td> <td>   -0.024</td> <td>    0.091</td>\n",
       "</tr>\n",
       "<tr>\n",
       "  <th>ma.S.L7</th>   <td>   -0.6684</td> <td>    0.144</td> <td>   -4.652</td> <td> 0.000</td> <td>   -0.950</td> <td>   -0.387</td>\n",
       "</tr>\n",
       "<tr>\n",
       "  <th>sigma2</th>    <td>   18.1965</td> <td>    0.553</td> <td>   32.899</td> <td> 0.000</td> <td>   17.112</td> <td>   19.281</td>\n",
       "</tr>\n",
       "</table>\n",
       "<table class=\"simpletable\">\n",
       "<tr>\n",
       "  <th>Ljung-Box (L1) (Q):</th>     <td>0.00</td> <th>  Jarque-Bera (JB):  </th> <td>68.63</td>\n",
       "</tr>\n",
       "<tr>\n",
       "  <th>Prob(Q):</th>                <td>0.95</td> <th>  Prob(JB):          </th> <td>0.00</td> \n",
       "</tr>\n",
       "<tr>\n",
       "  <th>Heteroskedasticity (H):</th> <td>1.34</td> <th>  Skew:              </th> <td>0.39</td> \n",
       "</tr>\n",
       "<tr>\n",
       "  <th>Prob(H) (two-sided):</th>    <td>0.00</td> <th>  Kurtosis:          </th> <td>3.54</td> \n",
       "</tr>\n",
       "</table><br/><br/>Warnings:<br/>[1] Covariance matrix calculated using the outer product of gradients (complex-step)."
      ],
      "text/latex": [
       "\\begin{center}\n",
       "\\begin{tabular}{lclc}\n",
       "\\toprule\n",
       "\\textbf{Dep. Variable:}          &               y               & \\textbf{  No. Observations:  } &    1825     \\\\\n",
       "\\textbf{Model:}                  & SARIMAX(2, 1, 1)x(2, 0, 1, 7) & \\textbf{  Log Likelihood     } & -5235.311   \\\\\n",
       "\\textbf{Date:}                   &        Sun, 16 Mar 2025       & \\textbf{  AIC                } & 10486.623   \\\\\n",
       "\\textbf{Time:}                   &            17:33:42           & \\textbf{  BIC                } & 10530.693   \\\\\n",
       "\\textbf{Sample:}                 &           10-05-2019          & \\textbf{  HQIC               } & 10502.880   \\\\\n",
       "\\textbf{}                        &          - 10-02-2024         & \\textbf{                     } &             \\\\\n",
       "\\textbf{Covariance Type:}        &              opg              & \\textbf{                     } &             \\\\\n",
       "\\bottomrule\n",
       "\\end{tabular}\n",
       "\\begin{tabular}{lcccccc}\n",
       "                   & \\textbf{coef} & \\textbf{std err} & \\textbf{z} & \\textbf{P$> |$z$|$} & \\textbf{[0.025} & \\textbf{0.975]}  \\\\\n",
       "\\midrule\n",
       "\\textbf{intercept} &     4.32e-05  &        0.001     &     0.040  &         0.968        &       -0.002    &        0.002     \\\\\n",
       "\\textbf{ar.L1}     &       0.1125  &        0.024     &     4.637  &         0.000        &        0.065    &        0.160     \\\\\n",
       "\\textbf{ar.L2}     &       0.0508  &        0.023     &     2.205  &         0.027        &        0.006    &        0.096     \\\\\n",
       "\\textbf{ma.L1}     &      -0.9693  &        0.006     &  -152.040  &         0.000        &       -0.982    &       -0.957     \\\\\n",
       "\\textbf{ar.S.L7}   &       0.7107  &        0.147     &     4.832  &         0.000        &        0.422    &        0.999     \\\\\n",
       "\\textbf{ar.S.L14}  &       0.0332  &        0.029     &     1.129  &         0.259        &       -0.024    &        0.091     \\\\\n",
       "\\textbf{ma.S.L7}   &      -0.6684  &        0.144     &    -4.652  &         0.000        &       -0.950    &       -0.387     \\\\\n",
       "\\textbf{sigma2}    &      18.1965  &        0.553     &    32.899  &         0.000        &       17.112    &       19.281     \\\\\n",
       "\\bottomrule\n",
       "\\end{tabular}\n",
       "\\begin{tabular}{lclc}\n",
       "\\textbf{Ljung-Box (L1) (Q):}     & 0.00 & \\textbf{  Jarque-Bera (JB):  } & 68.63  \\\\\n",
       "\\textbf{Prob(Q):}                & 0.95 & \\textbf{  Prob(JB):          } &  0.00  \\\\\n",
       "\\textbf{Heteroskedasticity (H):} & 1.34 & \\textbf{  Skew:              } &  0.39  \\\\\n",
       "\\textbf{Prob(H) (two-sided):}    & 0.00 & \\textbf{  Kurtosis:          } &  3.54  \\\\\n",
       "\\bottomrule\n",
       "\\end{tabular}\n",
       "%\\caption{SARIMAX Results}\n",
       "\\end{center}\n",
       "\n",
       "Warnings: \\newline\n",
       " [1] Covariance matrix calculated using the outer product of gradients (complex-step)."
      ],
      "text/plain": [
       "<class 'statsmodels.iolib.summary.Summary'>\n",
       "\"\"\"\n",
       "                                     SARIMAX Results                                     \n",
       "=========================================================================================\n",
       "Dep. Variable:                                 y   No. Observations:                 1825\n",
       "Model:             SARIMAX(2, 1, 1)x(2, 0, 1, 7)   Log Likelihood               -5235.311\n",
       "Date:                           Sun, 16 Mar 2025   AIC                          10486.623\n",
       "Time:                                   17:33:42   BIC                          10530.693\n",
       "Sample:                               10-05-2019   HQIC                         10502.880\n",
       "                                    - 10-02-2024                                         \n",
       "Covariance Type:                             opg                                         \n",
       "==============================================================================\n",
       "                 coef    std err          z      P>|z|      [0.025      0.975]\n",
       "------------------------------------------------------------------------------\n",
       "intercept    4.32e-05      0.001      0.040      0.968      -0.002       0.002\n",
       "ar.L1          0.1125      0.024      4.637      0.000       0.065       0.160\n",
       "ar.L2          0.0508      0.023      2.205      0.027       0.006       0.096\n",
       "ma.L1         -0.9693      0.006   -152.040      0.000      -0.982      -0.957\n",
       "ar.S.L7        0.7107      0.147      4.832      0.000       0.422       0.999\n",
       "ar.S.L14       0.0332      0.029      1.129      0.259      -0.024       0.091\n",
       "ma.S.L7       -0.6684      0.144     -4.652      0.000      -0.950      -0.387\n",
       "sigma2        18.1965      0.553     32.899      0.000      17.112      19.281\n",
       "===================================================================================\n",
       "Ljung-Box (L1) (Q):                   0.00   Jarque-Bera (JB):                68.63\n",
       "Prob(Q):                              0.95   Prob(JB):                         0.00\n",
       "Heteroskedasticity (H):               1.34   Skew:                             0.39\n",
       "Prob(H) (two-sided):                  0.00   Kurtosis:                         3.54\n",
       "===================================================================================\n",
       "\n",
       "Warnings:\n",
       "[1] Covariance matrix calculated using the outer product of gradients (complex-step).\n",
       "\"\"\""
      ]
     },
     "execution_count": 46,
     "metadata": {},
     "output_type": "execute_result"
    }
   ],
   "source": [
    "results_m7.summary()"
   ]
  },
  {
   "cell_type": "markdown",
   "metadata": {},
   "source": [
    "# Make Predictions"
   ]
  },
  {
   "cell_type": "code",
   "execution_count": 47,
   "metadata": {},
   "outputs": [
    {
     "data": {
      "text/plain": [
       "<Axes: >"
      ]
     },
     "execution_count": 47,
     "metadata": {},
     "output_type": "execute_result"
    },
    {
     "data": {
      "image/png": "[encoded data removed]",
      "text/plain": [
       "<Figure size 640x480 with 1 Axes>"
      ]
     },
     "metadata": {},
     "output_type": "display_data"
    }
   ],
   "source": [
    "forecast = results_m7.get_forecast(steps=365)  # Forecasts next year (365 days)\n",
    "forecast_mean = forecast.predicted_mean\n",
    "\n",
    "forecast_mean.plot()"
   ]
  },
  {
   "cell_type": "markdown",
   "metadata": {},
   "source": [
    "# Next Steps \n",
    "\n",
    "Fix model. \n",
    "* Try different values of m (seasonality periods)\n",
    "* Improve model accuracy (tweak parameters, fix max iterations error)"
   ]
  }
 ],
 "metadata": {
  "kernelspec": {
   "display_name": "base",
   "language": "python",
   "name": "base"
  },
  "language_info": {
   "codemirror_mode": {
    "name": "ipython",
    "version": 3
   },
   "file_extension": ".py",
   "mimetype": "text/x-python",
   "name": "python",
   "nbconvert_exporter": "python",
   "pygments_lexer": "ipython3",
   "version": "3.12.2"
  }
 },
 "nbformat": 4,
 "nbformat_minor": 2
}
