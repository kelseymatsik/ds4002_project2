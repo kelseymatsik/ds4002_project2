{
  "cells": [
    {
      "cell_type": "markdown",
      "metadata": {
        "colab_type": "text",
        "id": "view-in-github"
      },
      "source": [
        "<a href=\"https://colab.research.google.com/github/kelseymatsik/ds4002_project2/blob/main/Project2EDA.ipynb\" target=\"_parent\"><img src=\"https://colab.research.google.com/assets/colab-badge.svg\" alt=\"Open In Colab\"/></a>"
      ]
    },
    {
      "cell_type": "code",
      "execution_count": 1,
      "metadata": {
        "colab": {
          "base_uri": "https://localhost:8080/"
        },
        "id": "7nX77SOYAEG5",
        "outputId": "5ee15d1c-4603-4ff9-b01d-e0ed37b73a31"
      },
      "outputs": [],
      "source": [
        "# ! git clone https://github.com/kelseymatsik/ds4002_project2"
      ]
    },
    {
      "cell_type": "code",
      "execution_count": 1,
      "metadata": {
        "colab": {
          "base_uri": "https://localhost:8080/",
          "height": 300
        },
        "id": "bGAYHo3PJDZ3",
        "outputId": "37e6fcee-fa4f-4984-e37b-d8da25dc980c"
      },
      "outputs": [
        {
          "data": {
            "text/html": [
              "<div>\n",
              "<style scoped>\n",
              "    .dataframe tbody tr th:only-of-type {\n",
              "        vertical-align: middle;\n",
              "    }\n",
              "\n",
              "    .dataframe tbody tr th {\n",
              "        vertical-align: top;\n",
              "    }\n",
              "\n",
              "    .dataframe thead th {\n",
              "        text-align: right;\n",
              "    }\n",
              "</style>\n",
              "<table border=\"1\" class=\"dataframe\">\n",
              "  <thead>\n",
              "    <tr style=\"text-align: right;\">\n",
              "      <th></th>\n",
              "      <th>RecordID</th>\n",
              "      <th>IncidentID</th>\n",
              "      <th>BlockNumber</th>\n",
              "      <th>HourReported</th>\n",
              "    </tr>\n",
              "  </thead>\n",
              "  <tbody>\n",
              "    <tr>\n",
              "      <th>count</th>\n",
              "      <td>25111.000000</td>\n",
              "      <td>2.511100e+04</td>\n",
              "      <td>23322.000000</td>\n",
              "      <td>25111.000000</td>\n",
              "    </tr>\n",
              "    <tr>\n",
              "      <th>mean</th>\n",
              "      <td>12556.000000</td>\n",
              "      <td>2.021956e+11</td>\n",
              "      <td>883.440528</td>\n",
              "      <td>1346.739755</td>\n",
              "    </tr>\n",
              "    <tr>\n",
              "      <th>std</th>\n",
              "      <td>7249.065641</td>\n",
              "      <td>1.517163e+08</td>\n",
              "      <td>631.204242</td>\n",
              "      <td>586.961422</td>\n",
              "    </tr>\n",
              "    <tr>\n",
              "      <th>min</th>\n",
              "      <td>1.000000</td>\n",
              "      <td>2.019000e+11</td>\n",
              "      <td>100.000000</td>\n",
              "      <td>0.000000</td>\n",
              "    </tr>\n",
              "    <tr>\n",
              "      <th>25%</th>\n",
              "      <td>6278.500000</td>\n",
              "      <td>2.021000e+11</td>\n",
              "      <td>400.000000</td>\n",
              "      <td>958.000000</td>\n",
              "    </tr>\n",
              "    <tr>\n",
              "      <th>50%</th>\n",
              "      <td>12556.000000</td>\n",
              "      <td>2.022000e+11</td>\n",
              "      <td>800.000000</td>\n",
              "      <td>1403.000000</td>\n",
              "    </tr>\n",
              "    <tr>\n",
              "      <th>75%</th>\n",
              "      <td>18833.500000</td>\n",
              "      <td>2.023000e+11</td>\n",
              "      <td>1300.000000</td>\n",
              "      <td>1809.000000</td>\n",
              "    </tr>\n",
              "    <tr>\n",
              "      <th>max</th>\n",
              "      <td>25111.000000</td>\n",
              "      <td>2.024800e+11</td>\n",
              "      <td>6400.000000</td>\n",
              "      <td>2359.000000</td>\n",
              "    </tr>\n",
              "  </tbody>\n",
              "</table>\n",
              "</div>"
            ],
            "text/plain": [
              "           RecordID    IncidentID   BlockNumber  HourReported\n",
              "count  25111.000000  2.511100e+04  23322.000000  25111.000000\n",
              "mean   12556.000000  2.021956e+11    883.440528   1346.739755\n",
              "std     7249.065641  1.517163e+08    631.204242    586.961422\n",
              "min        1.000000  2.019000e+11    100.000000      0.000000\n",
              "25%     6278.500000  2.021000e+11    400.000000    958.000000\n",
              "50%    12556.000000  2.022000e+11    800.000000   1403.000000\n",
              "75%    18833.500000  2.023000e+11   1300.000000   1809.000000\n",
              "max    25111.000000  2.024800e+11   6400.000000   2359.000000"
            ]
          },
          "execution_count": 1,
          "metadata": {},
          "output_type": "execute_result"
        }
      ],
      "source": [
        "import pandas as pd\n",
        "crime = pd.read_csv('./Crime_Data.csv')\n",
        "crime.describe()"
      ]
    },
    {
      "cell_type": "code",
      "execution_count": 2,
      "metadata": {
        "colab": {
          "base_uri": "https://localhost:8080/",
          "height": 313
        },
        "id": "4Mmt-oZRNEwt",
        "outputId": "66220e07-de22-4849-e55f-dbd09ca9dcdd"
      },
      "outputs": [
        {
          "data": {
            "text/html": [
              "<div>\n",
              "<style scoped>\n",
              "    .dataframe tbody tr th:only-of-type {\n",
              "        vertical-align: middle;\n",
              "    }\n",
              "\n",
              "    .dataframe tbody tr th {\n",
              "        vertical-align: top;\n",
              "    }\n",
              "\n",
              "    .dataframe thead th {\n",
              "        text-align: right;\n",
              "    }\n",
              "</style>\n",
              "<table border=\"1\" class=\"dataframe\">\n",
              "  <thead>\n",
              "    <tr style=\"text-align: right;\">\n",
              "      <th></th>\n",
              "      <th>RecordID</th>\n",
              "      <th>Offense</th>\n",
              "      <th>IncidentID</th>\n",
              "      <th>BlockNumber</th>\n",
              "      <th>StreetName</th>\n",
              "      <th>Agency</th>\n",
              "      <th>DateReported</th>\n",
              "      <th>HourReported</th>\n",
              "      <th>ReportingOfficer</th>\n",
              "    </tr>\n",
              "  </thead>\n",
              "  <tbody>\n",
              "    <tr>\n",
              "      <th>0</th>\n",
              "      <td>1</td>\n",
              "      <td>Assist Citizen - Mental/TDO/ECO</td>\n",
              "      <td>202400034093</td>\n",
              "      <td>900.0</td>\n",
              "      <td>ELLIOTT AVE, A</td>\n",
              "      <td>CPD</td>\n",
              "      <td>2024/10/02 00:24:02+00</td>\n",
              "      <td>2024</td>\n",
              "      <td>Venereo, Arturo</td>\n",
              "    </tr>\n",
              "    <tr>\n",
              "      <th>1</th>\n",
              "      <td>2</td>\n",
              "      <td>Larceny - Of Veh Parts/Access</td>\n",
              "      <td>202400034075</td>\n",
              "      <td>1600.0</td>\n",
              "      <td>6TH ST SE, 28</td>\n",
              "      <td>CPD</td>\n",
              "      <td>2024/10/01 21:38:47+00</td>\n",
              "      <td>1738</td>\n",
              "      <td>Kirby, Tyree</td>\n",
              "    </tr>\n",
              "    <tr>\n",
              "      <th>2</th>\n",
              "      <td>3</td>\n",
              "      <td>Hit and Run</td>\n",
              "      <td>202400034071</td>\n",
              "      <td>900.0</td>\n",
              "      <td>EMMET ST N</td>\n",
              "      <td>CPD</td>\n",
              "      <td>2024/10/01 21:11:45+00</td>\n",
              "      <td>1711</td>\n",
              "      <td>Bland, Johnnà</td>\n",
              "    </tr>\n",
              "    <tr>\n",
              "      <th>3</th>\n",
              "      <td>4</td>\n",
              "      <td>Disorderly Conduct</td>\n",
              "      <td>202400034068</td>\n",
              "      <td>900.0</td>\n",
              "      <td>ST CLAIR AVE, A</td>\n",
              "      <td>CPD</td>\n",
              "      <td>2024/10/01 20:59:17+00</td>\n",
              "      <td>1659</td>\n",
              "      <td>Prevost, Payten</td>\n",
              "    </tr>\n",
              "    <tr>\n",
              "      <th>4</th>\n",
              "      <td>5</td>\n",
              "      <td>Lost/FoundProperty</td>\n",
              "      <td>202400034047</td>\n",
              "      <td>700.0</td>\n",
              "      <td>RUGBY RD</td>\n",
              "      <td>CPD</td>\n",
              "      <td>2024/10/01 18:23:15+00</td>\n",
              "      <td>1423</td>\n",
              "      <td>Brannon, Devin</td>\n",
              "    </tr>\n",
              "  </tbody>\n",
              "</table>\n",
              "</div>"
            ],
            "text/plain": [
              "   RecordID                          Offense    IncidentID  BlockNumber  \\\n",
              "0         1  Assist Citizen - Mental/TDO/ECO  202400034093        900.0   \n",
              "1         2    Larceny - Of Veh Parts/Access  202400034075       1600.0   \n",
              "2         3                      Hit and Run  202400034071        900.0   \n",
              "3         4               Disorderly Conduct  202400034068        900.0   \n",
              "4         5               Lost/FoundProperty  202400034047        700.0   \n",
              "\n",
              "        StreetName Agency            DateReported  HourReported  \\\n",
              "0   ELLIOTT AVE, A    CPD  2024/10/02 00:24:02+00          2024   \n",
              "1    6TH ST SE, 28    CPD  2024/10/01 21:38:47+00          1738   \n",
              "2       EMMET ST N    CPD  2024/10/01 21:11:45+00          1711   \n",
              "3  ST CLAIR AVE, A    CPD  2024/10/01 20:59:17+00          1659   \n",
              "4         RUGBY RD    CPD  2024/10/01 18:23:15+00          1423   \n",
              "\n",
              "  ReportingOfficer  \n",
              "0  Venereo, Arturo  \n",
              "1     Kirby, Tyree  \n",
              "2    Bland, Johnnà  \n",
              "3  Prevost, Payten  \n",
              "4   Brannon, Devin  "
            ]
          },
          "execution_count": 2,
          "metadata": {},
          "output_type": "execute_result"
        }
      ],
      "source": [
        "crime.head()"
      ]
    },
    {
      "cell_type": "code",
      "execution_count": 3,
      "metadata": {
        "id": "PTCm4NVwHC8P"
      },
      "outputs": [],
      "source": [
        "# convert to eastern time zone\n",
        "import pytz\n",
        "eastern = pytz.timezone('America/New_York')\n",
        "\n",
        "crime['DateReported'] = pd.to_datetime(crime['DateReported'])\n",
        "\n",
        "# Localize to UTC if not already timezoned\n",
        "#crime['DateReported'] = crime['DateReported'].dt.tz_localize('UTC')\n",
        "\n",
        "# Define the Eastern Time zone\n",
        "eastern = pytz.timezone('America/New_York')\n",
        "\n",
        "# Convert the DateReported column to Eastern Time\n",
        "crime['DateReported'] = crime['DateReported'].dt.tz_convert(eastern)"
      ]
    },
    {
      "cell_type": "code",
      "execution_count": 4,
      "metadata": {
        "colab": {
          "base_uri": "https://localhost:8080/",
          "height": 313
        },
        "id": "Kh8xntV_Hn9W",
        "outputId": "c1b09942-5cd1-48d1-ecc6-b9db9dfb9174"
      },
      "outputs": [
        {
          "data": {
            "text/html": [
              "<div>\n",
              "<style scoped>\n",
              "    .dataframe tbody tr th:only-of-type {\n",
              "        vertical-align: middle;\n",
              "    }\n",
              "\n",
              "    .dataframe tbody tr th {\n",
              "        vertical-align: top;\n",
              "    }\n",
              "\n",
              "    .dataframe thead th {\n",
              "        text-align: right;\n",
              "    }\n",
              "</style>\n",
              "<table border=\"1\" class=\"dataframe\">\n",
              "  <thead>\n",
              "    <tr style=\"text-align: right;\">\n",
              "      <th></th>\n",
              "      <th>RecordID</th>\n",
              "      <th>Offense</th>\n",
              "      <th>IncidentID</th>\n",
              "      <th>BlockNumber</th>\n",
              "      <th>StreetName</th>\n",
              "      <th>Agency</th>\n",
              "      <th>DateReported</th>\n",
              "      <th>HourReported</th>\n",
              "      <th>ReportingOfficer</th>\n",
              "    </tr>\n",
              "  </thead>\n",
              "  <tbody>\n",
              "    <tr>\n",
              "      <th>0</th>\n",
              "      <td>1</td>\n",
              "      <td>Assist Citizen - Mental/TDO/ECO</td>\n",
              "      <td>202400034093</td>\n",
              "      <td>900.0</td>\n",
              "      <td>ELLIOTT AVE, A</td>\n",
              "      <td>CPD</td>\n",
              "      <td>2024-10-01 20:24:02-04:00</td>\n",
              "      <td>2024</td>\n",
              "      <td>Venereo, Arturo</td>\n",
              "    </tr>\n",
              "    <tr>\n",
              "      <th>1</th>\n",
              "      <td>2</td>\n",
              "      <td>Larceny - Of Veh Parts/Access</td>\n",
              "      <td>202400034075</td>\n",
              "      <td>1600.0</td>\n",
              "      <td>6TH ST SE, 28</td>\n",
              "      <td>CPD</td>\n",
              "      <td>2024-10-01 17:38:47-04:00</td>\n",
              "      <td>1738</td>\n",
              "      <td>Kirby, Tyree</td>\n",
              "    </tr>\n",
              "    <tr>\n",
              "      <th>2</th>\n",
              "      <td>3</td>\n",
              "      <td>Hit and Run</td>\n",
              "      <td>202400034071</td>\n",
              "      <td>900.0</td>\n",
              "      <td>EMMET ST N</td>\n",
              "      <td>CPD</td>\n",
              "      <td>2024-10-01 17:11:45-04:00</td>\n",
              "      <td>1711</td>\n",
              "      <td>Bland, Johnnà</td>\n",
              "    </tr>\n",
              "    <tr>\n",
              "      <th>3</th>\n",
              "      <td>4</td>\n",
              "      <td>Disorderly Conduct</td>\n",
              "      <td>202400034068</td>\n",
              "      <td>900.0</td>\n",
              "      <td>ST CLAIR AVE, A</td>\n",
              "      <td>CPD</td>\n",
              "      <td>2024-10-01 16:59:17-04:00</td>\n",
              "      <td>1659</td>\n",
              "      <td>Prevost, Payten</td>\n",
              "    </tr>\n",
              "    <tr>\n",
              "      <th>4</th>\n",
              "      <td>5</td>\n",
              "      <td>Lost/FoundProperty</td>\n",
              "      <td>202400034047</td>\n",
              "      <td>700.0</td>\n",
              "      <td>RUGBY RD</td>\n",
              "      <td>CPD</td>\n",
              "      <td>2024-10-01 14:23:15-04:00</td>\n",
              "      <td>1423</td>\n",
              "      <td>Brannon, Devin</td>\n",
              "    </tr>\n",
              "  </tbody>\n",
              "</table>\n",
              "</div>"
            ],
            "text/plain": [
              "   RecordID                          Offense    IncidentID  BlockNumber  \\\n",
              "0         1  Assist Citizen - Mental/TDO/ECO  202400034093        900.0   \n",
              "1         2    Larceny - Of Veh Parts/Access  202400034075       1600.0   \n",
              "2         3                      Hit and Run  202400034071        900.0   \n",
              "3         4               Disorderly Conduct  202400034068        900.0   \n",
              "4         5               Lost/FoundProperty  202400034047        700.0   \n",
              "\n",
              "        StreetName Agency              DateReported  HourReported  \\\n",
              "0   ELLIOTT AVE, A    CPD 2024-10-01 20:24:02-04:00          2024   \n",
              "1    6TH ST SE, 28    CPD 2024-10-01 17:38:47-04:00          1738   \n",
              "2       EMMET ST N    CPD 2024-10-01 17:11:45-04:00          1711   \n",
              "3  ST CLAIR AVE, A    CPD 2024-10-01 16:59:17-04:00          1659   \n",
              "4         RUGBY RD    CPD 2024-10-01 14:23:15-04:00          1423   \n",
              "\n",
              "  ReportingOfficer  \n",
              "0  Venereo, Arturo  \n",
              "1     Kirby, Tyree  \n",
              "2    Bland, Johnnà  \n",
              "3  Prevost, Payten  \n",
              "4   Brannon, Devin  "
            ]
          },
          "execution_count": 4,
          "metadata": {},
          "output_type": "execute_result"
        }
      ],
      "source": [
        "crime.head()"
      ]
    },
    {
      "cell_type": "code",
      "execution_count": 5,
      "metadata": {
        "colab": {
          "base_uri": "https://localhost:8080/",
          "height": 490
        },
        "id": "BFksrQcvJus3",
        "outputId": "70c47aa5-10f5-4a9c-da19-601b529e707e"
      },
      "outputs": [
        {
          "data": {
            "text/plain": [
              "Offense\n",
              "Hit and Run                     2167\n",
              "Assault Simple                  1911\n",
              "Suspicious Activity             1693\n",
              "Vandalism                       1627\n",
              "Larceny - From Motor Vehicle    1554\n",
              "                                ... \n",
              "Traffic - Traffic Hazard           1\n",
              "Stop w/o Search/Frisk              1\n",
              "Prostitution                       1\n",
              "Traffic - Disabled Vehicle         1\n",
              "Stop w/Search/Frisk                1\n",
              "Name: count, Length: 111, dtype: int64"
            ]
          },
          "execution_count": 5,
          "metadata": {},
          "output_type": "execute_result"
        }
      ],
      "source": [
        "crime['Offense'].value_counts()"
      ]
    },
    {
      "cell_type": "code",
      "execution_count": 6,
      "metadata": {
        "id": "aD7lSCkdKlAa"
      },
      "outputs": [],
      "source": [
        "crime['Offense'] = crime['Offense'].str.replace(r'.*Larceny.*', 'Larceny', regex=True)\n",
        "crime['Offense']= crime['Offense'].str.replace(r'.*Assist Citizen.*', 'Assist Citizen', regex=True)\n",
        "crime['Offense']= crime['Offense'].str.replace(r'.*Sex Offense.*', 'Sex Offense', regex=True)\n",
        "crime['Offense']= crime['Offense'].str.replace(r'.*Fraud.*', 'Fraud', regex=True)\n",
        "crime['Offense']= crime['Offense'].str.replace(r'.*Accident.*', 'Accident', regex=True)\n",
        "crime['Offense']= crime['Offense'].str.replace(r'.*Robbery.*', 'Robbery', regex=True)\n",
        "crime['Offense']= crime['Offense'].str.replace(r'.*Traffic.*', 'Traffic', regex=True)"
      ]
    },
    {
      "cell_type": "code",
      "execution_count": 7,
      "metadata": {
        "colab": {
          "base_uri": "https://localhost:8080/",
          "height": 490
        },
        "id": "nB4cPwh7Kx0K",
        "outputId": "8af608f7-e909-4388-ea0c-89eb2a159e8c"
      },
      "outputs": [
        {
          "data": {
            "text/plain": [
              "Offense\n",
              "Larceny                            5347\n",
              "Hit and Run                        2167\n",
              "Assault Simple                     1911\n",
              "Suspicious Activity                1693\n",
              "Vandalism                          1627\n",
              "                                   ... \n",
              "911 Investigation                     1\n",
              "Tactical Crime Initiative - TCI       1\n",
              "Stop w/o Search/Frisk                 1\n",
              "Prostitution                          1\n",
              "Stop w/Search/Frisk                   1\n",
              "Name: count, Length: 84, dtype: int64"
            ]
          },
          "execution_count": 7,
          "metadata": {},
          "output_type": "execute_result"
        }
      ],
      "source": [
        "crime['Offense'].value_counts()"
      ]
    },
    {
      "cell_type": "markdown",
      "metadata": {
        "id": "oWblFVdWeF6H"
      },
      "source": [
        "# Scraping to Find Start End dates\n"
      ]
    },
    {
      "cell_type": "code",
      "execution_count": 8,
      "metadata": {
        "id": "tejNtwgleFIV"
      },
      "outputs": [],
      "source": [
        "import requests\n",
        "from bs4 import BeautifulSoup as soup\n",
        "import pandas as pd\n",
        "\n",
        "\n",
        "header = {\n",
        "    \"User-Agent\": \"Mozilla/5.0 (Windows NT 10.0; Win64; x64; rv:124.0) Gecko/20100101 Firefox/124.0\"\n",
        "}\n",
        "\n"
      ]
    },
    {
      "cell_type": "markdown",
      "metadata": {
        "id": "ok9gMgXZeao4"
      },
      "source": [
        "### First Get List of Links to Scrape\n"
      ]
    },
    {
      "cell_type": "code",
      "execution_count": 9,
      "metadata": {
        "id": "Xr9MMDMjeUvp"
      },
      "outputs": [],
      "source": [
        "url = \"https://records.ureg.virginia.edu/content.php?catoid=61&navoid=5319&print\"\n",
        "raw = requests.get(url, headers=header)\n"
      ]
    },
    {
      "cell_type": "code",
      "execution_count": 10,
      "metadata": {
        "colab": {
          "base_uri": "https://localhost:8080/"
        },
        "id": "RV_GSWp1efL1",
        "outputId": "f20feb92-9efb-4ff8-a42d-345e708b882c"
      },
      "outputs": [
        {
          "name": "stdout",
          "output_type": "stream",
          "text": [
            "['index.php?catoid=1', 'index.php?catoid=7', 'index.php?catoid=11', 'index.php?catoid=17', 'index.php?catoid=22', 'index.php?catoid=25', 'index.php?catoid=27', 'index.php?catoid=31', 'index.php?catoid=33', 'index.php?catoid=37', 'index.php?catoid=39', 'index.php?catoid=42', 'index.php?catoid=43', 'index.php?catoid=45', 'index.php?catoid=47', 'index.php?catoid=49', 'index.php?catoid=52', 'index.php?catoid=54', 'index.php?catoid=58']\n"
          ]
        }
      ],
      "source": [
        "bsObj = soup(raw.content, \"html.parser\")  # Parse the html\n",
        "links = bsObj.find_all(\"li\")\n",
        "\n",
        "#links_needed = links[47:]\n",
        "\n",
        "links_needed = []\n",
        "for link in links:\n",
        "    if \"Undergraduate Record\" in link.get_text():\n",
        "        links_needed.append(link)\n",
        "\n",
        "link_list = []\n",
        "for link in links_needed:\n",
        "    #print(link.text)\n",
        "\n",
        "    link_list.append(link.find(\"a\")[\"href\"])\n",
        "\n",
        "print(link_list)\n"
      ]
    },
    {
      "cell_type": "markdown",
      "metadata": {
        "id": "kz7b0FW8eiyg"
      },
      "source": [
        "### Scrape List of Links to Get Academic Calander Links"
      ]
    },
    {
      "cell_type": "code",
      "execution_count": 11,
      "metadata": {
        "id": "y4ufIqNkelZG"
      },
      "outputs": [],
      "source": [
        "base_url = 'https://records.ureg.virginia.edu/'\n",
        "\n",
        "links = []\n",
        "\n",
        "\n",
        "for link in link_list:\n",
        "    url = base_url + link\n",
        "    raw = requests.get(url, headers=header)\n",
        "    bsObj = soup(raw.content, \"html.parser\")  # Parse the html\n",
        "    links_in_url = bsObj.find_all(\"div\", class_=\"n2_links\")\n",
        "    for l in links_in_url:\n",
        "        if \"Academic Calendar\" in l.get_text():\n",
        "            links.append(l.find(\"a\")[\"href\"])\n"
      ]
    },
    {
      "cell_type": "code",
      "execution_count": 13,
      "metadata": {
        "colab": {
          "base_uri": "https://localhost:8080/"
        },
        "id": "8qqhj-waerzE",
        "outputId": "c3cb8c9d-fb70-4630-ed9e-c30d13a9bbaa"
      },
      "outputs": [
        {
          "name": "stdout",
          "output_type": "stream",
          "text": [
            "['/content.php?catoid=1&navoid=18', '/content.php?catoid=7&navoid=113', '/content.php?catoid=11&navoid=173', '/content.php?catoid=17&navoid=264', '/content.php?catoid=22&navoid=517', '/content.php?catoid=25&navoid=615', '/content.php?catoid=27&navoid=723', '/content.php?catoid=31&navoid=971', '/content.php?catoid=33&navoid=1330', '/content.php?catoid=37&navoid=2125', '/content.php?catoid=39&navoid=2366', '/content.php?catoid=42&navoid=2752', '/content.php?catoid=43&navoid=3015', '/content.php?catoid=45&navoid=3263', '/content.php?catoid=47&navoid=3479', '/content.php?catoid=49&navoid=3701', '/content.php?catoid=52&navoid=4103', '/content.php?catoid=54&navoid=4364', '/content.php?catoid=58&navoid=4879']\n"
          ]
        }
      ],
      "source": [
        "print(links)"
      ]
    },
    {
      "cell_type": "markdown",
      "metadata": {
        "id": "x4-p58ruf7Fs"
      },
      "source": [
        "### Get Dates From Each Link in List"
      ]
    },
    {
      "cell_type": "code",
      "execution_count": 12,
      "metadata": {
        "colab": {
          "base_uri": "https://localhost:8080/"
        },
        "id": "_4HiP5p2hjYl",
        "outputId": "e3660329-347e-4851-9915-5513fa476997"
      },
      "outputs": [
        {
          "name": "stdout",
          "output_type": "stream",
          "text": [
            "https://records.ureg.virginia.edu//content.php?catoid=25&navoid=615\n"
          ]
        }
      ],
      "source": [
        "url = base_url + links[5]\n",
        "print(url)\n",
        "\n",
        "url = 'https://records.ureg.virginia.edu/content.php?catoid=37&navoid=2125'\n",
        "\n",
        "raw = requests.get(url, headers=header)\n",
        "\n",
        "\n",
        "\n",
        "\n",
        "bsObj = soup(raw.content, \"html.parser\")  # Parse the html\n"
      ]
    },
    {
      "cell_type": "code",
      "execution_count": 13,
      "metadata": {
        "colab": {
          "base_uri": "https://localhost:8080/"
        },
        "id": "1Xn65tqouAWV",
        "outputId": "795c196e-9436-4de4-cbf5-e70ce6ebd9f6"
      },
      "outputs": [
        {
          "name": "stdout",
          "output_type": "stream",
          "text": [
            "Fall Semester 2014: Orientation Begins: Saturday, August 23-Monday, August 25\n",
            "Fall Semester 2014: Courses Begin: Tuesday, August 26\n",
            "Fall Semester 2014: Add/Drop/Withdrawal: Vary by School\n",
            "Fall Semester 2014: Fall Convocation: Friday, October 31\n",
            "Fall Semester 2014: Family Weekend: Friday, October 31 - Sunday, November 2\n",
            "Fall Semester 2014: Reading Days: Saturday, October 11-Tuesday, October 14\n",
            "Fall Semester 2014: Thanksgiving Recess: Wednesday, November 26-Sunday, November 30\n",
            "Fall Semester 2014: Courses End: Friday, December 5\n",
            "Fall Semester 2014: Reading Day: Sunday, December 7\n",
            "Fall Semester 2014: Examinations: Monday, December 8-Tuesday, December 16\n",
            "Fall Semester 2014: Reading Days: Thursday, December 11; Sunday, December 14\n",
            "Fall Semester 2014: Fall degrees conferred: Tuesday, December 30 (no ceremony)\n",
            "January Term 2015: Courses Begin: Friday, January 2-Saturday, January 10\n",
            "January Term 2015: Courses End: Saturday, January 10\n",
            "Spring Semester 2015: Courses Begin: Monday, January 12\n",
            "Spring Semester 2015: University Holiday: Monday, January 19, Martin Luther King Day\n",
            "Spring Semester 2015: Add/Drop/Withdrawal: Vary by School\n",
            "Spring Semester 2015: Spring Recess: Saturday, March 7-Sunday, March 15\n",
            "Spring Semester 2015: Courses End: Tuesday, April 28\n",
            "Spring Semester 2015: Reading Day: Wednesday, April 29\n",
            "Spring Semester 2015: Examinations: Thursday, April 30-Friday, May 8\n",
            "Spring Semester 2015: Reading Days: Sunday, May 3; Wednesday, May 6\n",
            "Spring Semester 2015: Final Exercises: Sunday, May 17\n"
          ]
        }
      ],
      "source": [
        "\n",
        "events = []\n",
        "current_semester = \"\"\n",
        "for tag in bsObj.find_all(['h2', 'h3', 'h4']):\n",
        "    potential_semester = tag.get_text(strip=True)\n",
        "    if \"semester\" in potential_semester.lower() or \"term\" in potential_semester.lower():\n",
        "        current_semester = potential_semester\n",
        "\n",
        "    next_sibling = tag.find_next_sibling()\n",
        "    while next_sibling and next_sibling.name not in ['h2', 'h3', 'h4']:\n",
        "        if next_sibling.name == 'table':\n",
        "            for tr in next_sibling.find_all('tr'):\n",
        "                tds = tr.find_all('td')\n",
        "                if len(tds) >= 2:\n",
        "                    event_name = tds[0].get_text(strip=True)\n",
        "                    date_range = tds[1].get_text(strip=True).replace('<br>', ' - ').replace('</br>', ' - ')\n",
        "                    if event_name and date_range:\n",
        "                        events.append((current_semester, event_name, date_range))\n",
        "        next_sibling = next_sibling.find_next_sibling()\n",
        "\n",
        "for event in events:\n",
        "    print(f\"{event[0]}: {event[1]}: {event[2]}\")"
      ]
    },
    {
      "cell_type": "code",
      "execution_count": 14,
      "metadata": {
        "colab": {
          "base_uri": "https://localhost:8080/"
        },
        "id": "YKtbwWTqf-4U",
        "outputId": "eb0b1021-bfc9-41bc-9de9-70e17903926c"
      },
      "outputs": [
        {
          "name": "stdout",
          "output_type": "stream",
          "text": [
            "Fall Semester 2005: Courses Begin: Wednesday, August 24\n",
            "Fall Semester 2005: Courses End: Tuesday, December 6\n",
            "January Term 2006: Courses Begin: Tuesday, January 3\n",
            "January Term 2006: Courses End: Monday, January 16\n",
            "Spring Semester 2006: Courses Begin: Wednesday, January 18\n",
            "Spring Semester 2006: Courses End: Tuesday, May 2\n",
            "Fall Semester 2006: Courses Begin: Wednesday, August 23\n",
            "Fall Semester 2006: Courses End: Tuesday, December 5\n",
            "January Term 2007: Courses Begin: Tuesday, January 2\n",
            "January Term 2007: Courses End: Friday, January 12\n",
            "Spring Semester 2007: Courses Begin: Wednesday, January 17\n",
            "Spring Semester 2007: Courses End: Tuesday, May 1\n",
            "Fall Semester 2007: Courses Begin: Tuesday, August 28\n",
            "Fall Semester 2007: Courses End: Friday, December 7\n",
            "January Term 2008: Courses Begin: Wednesday, January 2\n",
            "January Term 2008: Courses End: Friday, January 11\n",
            "Spring Semester 2008: Courses Begin: Wednesday, January 16\n",
            "Spring Semester 2008: Courses End: Tuesday, April 29\n",
            "Fall Semester 2008: Courses Begin: Tuesday, August 26\n",
            "Fall Semester 2008: Courses End: Friday, December 5\n",
            "January Term 2009: Courses Begin: Wednesday, January 2\n",
            "January Term 2009: Courses End: Saturday, January 10\n",
            "Spring Semester 2009: Courses Begin: Tuesday, January 13\n",
            "Spring Semester 2009: Courses End: Tuesday, April 28\n",
            "Fall Semester 2009: Courses Begin: Tuesday, August 25\n",
            "Fall Semester 2009: Courses End: Tuesday, December 08\n",
            "January Term 2010: Courses Begin: Monday, January 04-Friday,January 15\n",
            "January Term 2010: Courses End: Friday, January 15\n",
            "Spring Semester 2010: Courses Begin: Wednesday, January 20\n",
            "Spring Semester 2010: Courses End: Tuesday, May 04\n",
            "Fall Semester 2010: Courses Begin: Tuesday, August 24\n",
            "Fall Semester 2010: Courses End: Tuesday, December 07\n",
            "January Term 2011: Courses Begin: Monday, January 03-Friday, January 14\n",
            "January Term 2011: Courses End: Friday, January 14\n",
            "Spring Semester 2011: Courses Begin: Wednesday, January 19\n",
            "Spring Semester 2011: Courses End: Tuesday, May 03\n",
            "Fall Semester 2011: Courses Begin: Tuesday, August 23\n",
            "Fall Semester 2011: Courses End: Tuesday, December 06\n",
            "January Term 2012: Courses Begin: Tuesday, January 03-Friday, January 13\n",
            "January Term 2012: Courses End: Friday, January 13\n",
            "Spring Semester 2012: Courses Begin: Wednesday, January 18\n",
            "Spring Semester 2012: Courses End: Tuesday, May 01\n",
            "Fall Semester 2012: Courses Begin: Tuesday, August 28\n",
            "Fall Semester 2012: Courses End: Friday, December 07\n",
            "January Term 2013: Courses Begin: Wednesday, January 02-Friday, January 11\n",
            "January Term 2013: Courses End: Friday, January 11\n",
            "Spring Semester 2013: Courses Begin: Monday, January 14\n",
            "Spring Semester 2013: Courses End: Tuesday, April 30\n",
            "Fall Semester 2013: Courses Begin: Tuesday, August 27\n",
            "Fall Semester 2013: Courses End: Friday, December 6\n",
            "January Term 2014: Courses Begin: Thursday, January 2-Friday, January 10\n",
            "January Term 2014: Courses End: Friday, January 10\n",
            "Spring Semester 2014: Courses Begin: Monday, January 13\n",
            "Spring Semester 2014: Courses End: Tuesday, April 29\n",
            "Fall Semester 2014: Courses Begin: Tuesday, August 26\n",
            "Fall Semester 2014: Courses End: Friday, December 5\n",
            "January Term 2015: Courses Begin: Friday, January 2-Saturday, January 10\n",
            "January Term 2015: Courses End: Saturday, January 10\n",
            "Spring Semester 2015: Courses Begin: Monday, January 12\n",
            "Spring Semester 2015: Courses End: Tuesday, April 28\n",
            "Fall Semester 2015: Courses Begin: Tuesday, August 25\n",
            "Fall Semester 2015: Courses End: Tuesday, December 8\n",
            "January Term 2016: Courses Begin: Monday, January 4-Friday, January 15\n",
            "January Term 2016: Courses End: Friday, January 15\n",
            "Spring Semester 2016: Courses Begin: Wednesday, January 20\n",
            "Spring Semester 2016: Courses End: Tuesday, May 3\n",
            "Fall Semester 2016: Courses begin: Tuesday, August 23\n",
            "Fall Semester 2016: Courses end: Tuesday, December 6\n",
            "January Term 2017: Courses Begin: Tuesday, January 3 - Friday, January 13(with class on Saturday, January 7)\n",
            "January Term 2017: Courses End: Friday, January 13\n",
            "Spring Semester 2017: Courses begin: Wednesday, January 18\n",
            "Spring Semester 2017: Courses end: Tuesday, May 2\n",
            "Fall Semester 2017: Courses begin: Tuesday, August 22\n",
            "Fall Semester 2017: Courses end: Tuesday, December 5\n",
            "January Term 2018: Courses Begin: Tuesday, January 2 - Friday, January 12(with class on Saturday, January 6)\n",
            "January Term 2018: Courses End: Friday, January 12\n",
            "Spring Semester 2018: Courses begin: Wednesday, January 17\n",
            "Spring Semester 2018: Courses end: Tuesday, May 1\n",
            "Fall Term 2018: Courses begin: Tuesday, August 28\n",
            "Fall Term 2018: Courses end: Friday, December 7\n",
            "January Term 2019: Courses Begin: Wednesday, January 2 - Saturday, January 12(with class on Saturday, January 5 and Saturday, January 12)\n",
            "January Term 2019: Courses End: Saturday, January 12\n",
            "Spring Term 2019: Courses begin: Monday, January 14\n",
            "Spring Term 2019: Courses end: Tuesday, April 30\n",
            "Fall Term 2019: Courses begin: Tuesday, August 27\n",
            "Fall Term 2019: Courses end: Friday, December 6\n",
            "January Term 2020: Courses Begin: Tuesday, January 2 - Saturday, January 11(with class on Saturday, January 4 and Saturday, January 11)\n",
            "January Term 2020: Courses End: Saturday, January 11\n",
            "Spring Term 2020: Courses begin: Monday, January 13\n",
            "Spring Term 2020: Courses end: Tuesday, April 28\n",
            "Fall Term 2020: Courses begin: Tuesday, August 25\n",
            "Fall Term 2020: Courses end: Tuesday, November 24No in-person instruction or assessments after November 24\n",
            "January Term 2021: Courses Begin: Monday, January 4 - Friday, January 15\n",
            "January Term 2021: Courses End: Friday, January 15\n",
            "Spring Term 2021: Courses begin: Monday, February 1\n",
            "Spring Term 2021: Courses end: Thursday, May 6\n",
            "Fall Term 2021: Courses begin: Tuesday, August 24\n",
            "Fall Term 2021: Courses end: Tuesday, December 7\n",
            "January Term 2022: Courses Begin: Monday, January 3\n",
            "January Term 2022: Courses End: Friday, January 14\n",
            "Spring Term 2022: Courses begin: Wednesday, January 19\n",
            "Spring Term 2022: Courses end: Tuesday, May 3\n",
            "Fall Term 2022: Courses begin: Tuesday, August 23\n",
            "Fall Term 2022: Courses end: Tuesday, December 6\n",
            "January Term 2023: Courses Begin: Monday, January 2\n",
            "January Term 2023: Courses End: Friday, January 13\n",
            "Spring Term 2023: Courses begin: Wednesday, January 18\n",
            "Spring Term 2023: Courses end: Tuesday, May 2\n",
            "Fall Term 2023: Courses begin: Tuesday, August 22\n",
            "Fall Term 2023: Courses end: Tuesday, December 5\n",
            "January Term 2024: Courses Begin: Tuesday, January 2 (with class on Saturday, January 6)\n",
            "January Term 2024: Courses End: Friday, January 12\n",
            "Spring Term 2024: Courses begin: Wednesday, January 17\n",
            "Spring Term 2024: Courses end: Tuesday, April 30\n",
            "Fall 2024: Courses Begin: Monday, August 27\n",
            "Fall 2024: Courses End: Friday, December 6\n",
            "Spring 2025: Courses Begin: Monday, January 13\n",
            "Spring 2025: Courses End: Friday, April 29\n"
          ]
        }
      ],
      "source": [
        "import requests\n",
        "from bs4 import BeautifulSoup as soup\n",
        "\n",
        "base_url = 'https://records.ureg.virginia.edu/'\n",
        "events = []\n",
        "current_semester = \"\"\n",
        "\n",
        "for link in links:\n",
        "    url = base_url + link\n",
        "    raw = requests.get(url, headers=header)\n",
        "    bsObj = soup(raw.content, \"html.parser\")  # Parse the HTML\n",
        "\n",
        "    for tag in bsObj.find_all(['tr', 'h2', 'h3', 'h4']):\n",
        "        if tag.name in ['h2', 'h3', 'h4']:\n",
        "            potential_semester = tag.get_text(strip=True)\n",
        "            if \"semester\" in potential_semester.lower() or \"term\" in potential_semester.lower():\n",
        "                current_semester = potential_semester\n",
        "        elif tag.name == 'tr':\n",
        "            tds = tag.find_all('td')\n",
        "            if len(tds) in [2, 3]:\n",
        "                event_name = tds[0].get_text(strip=True)\n",
        "                date_range = tds[-1].get_text(strip=True).replace('<br>', ' - ').replace('</br>', ' - ')\n",
        "                if (event_name.lower() in ['courses begin', 'courses end']) and date_range:\n",
        "                    events.append((current_semester, event_name, date_range))\n",
        "\n",
        "events.append(('Fall 2024', 'Courses Begin', 'Monday, August 27'))\n",
        "events.append(('Fall 2024', 'Courses End', 'Friday, December 6'))\n",
        "events.append(('Spring 2025', 'Courses Begin', 'Monday, January 13'))\n",
        "events.append(('Spring 2025', 'Courses End', 'Friday, April 29'))\n",
        "\n",
        "\n",
        "\n",
        "for event in events:\n",
        "    print(f\"{event[0]}: {event[1]}: {event[2]}\")\n"
      ]
    },
    {
      "cell_type": "markdown",
      "metadata": {
        "id": "UPp5GmG82_ut"
      },
      "source": [
        "### Adding date to the df_dates table"
      ]
    },
    {
      "cell_type": "code",
      "execution_count": 15,
      "metadata": {
        "colab": {
          "base_uri": "https://localhost:8080/",
          "height": 1000
        },
        "id": "igRFZKfz2mf8",
        "outputId": "55625dd1-7411-4464-f7ee-2fd4b9aaf502"
      },
      "outputs": [
        {
          "data": {
            "text/html": [
              "<div>\n",
              "<style scoped>\n",
              "    .dataframe tbody tr th:only-of-type {\n",
              "        vertical-align: middle;\n",
              "    }\n",
              "\n",
              "    .dataframe tbody tr th {\n",
              "        vertical-align: top;\n",
              "    }\n",
              "\n",
              "    .dataframe thead th {\n",
              "        text-align: right;\n",
              "    }\n",
              "</style>\n",
              "<table border=\"1\" class=\"dataframe\">\n",
              "  <thead>\n",
              "    <tr style=\"text-align: right;\">\n",
              "      <th></th>\n",
              "      <th>Semester</th>\n",
              "      <th>Start</th>\n",
              "      <th>End</th>\n",
              "    </tr>\n",
              "  </thead>\n",
              "  <tbody>\n",
              "    <tr>\n",
              "      <th>0</th>\n",
              "      <td>Fall Semester 2005</td>\n",
              "      <td>2005/08/24</td>\n",
              "      <td>2005/12/06</td>\n",
              "    </tr>\n",
              "    <tr>\n",
              "      <th>1</th>\n",
              "      <td>January Term 2006</td>\n",
              "      <td>2006/01/03</td>\n",
              "      <td>2006/01/16</td>\n",
              "    </tr>\n",
              "    <tr>\n",
              "      <th>2</th>\n",
              "      <td>Spring Semester 2006</td>\n",
              "      <td>2006/01/18</td>\n",
              "      <td>2006/05/02</td>\n",
              "    </tr>\n",
              "    <tr>\n",
              "      <th>3</th>\n",
              "      <td>Fall Semester 2006</td>\n",
              "      <td>2006/08/23</td>\n",
              "      <td>2006/12/05</td>\n",
              "    </tr>\n",
              "    <tr>\n",
              "      <th>4</th>\n",
              "      <td>January Term 2007</td>\n",
              "      <td>2007/01/02</td>\n",
              "      <td>2007/01/12</td>\n",
              "    </tr>\n",
              "    <tr>\n",
              "      <th>5</th>\n",
              "      <td>Spring Semester 2007</td>\n",
              "      <td>2007/01/17</td>\n",
              "      <td>2007/05/01</td>\n",
              "    </tr>\n",
              "    <tr>\n",
              "      <th>6</th>\n",
              "      <td>Fall Semester 2007</td>\n",
              "      <td>2007/08/28</td>\n",
              "      <td>2007/12/07</td>\n",
              "    </tr>\n",
              "    <tr>\n",
              "      <th>7</th>\n",
              "      <td>January Term 2008</td>\n",
              "      <td>2008/01/02</td>\n",
              "      <td>2008/01/11</td>\n",
              "    </tr>\n",
              "    <tr>\n",
              "      <th>8</th>\n",
              "      <td>Spring Semester 2008</td>\n",
              "      <td>2008/01/16</td>\n",
              "      <td>2008/04/29</td>\n",
              "    </tr>\n",
              "    <tr>\n",
              "      <th>9</th>\n",
              "      <td>Fall Semester 2008</td>\n",
              "      <td>2008/08/26</td>\n",
              "      <td>2008/12/05</td>\n",
              "    </tr>\n",
              "    <tr>\n",
              "      <th>10</th>\n",
              "      <td>January Term 2009</td>\n",
              "      <td>2009/01/02</td>\n",
              "      <td>2009/01/10</td>\n",
              "    </tr>\n",
              "    <tr>\n",
              "      <th>11</th>\n",
              "      <td>Spring Semester 2009</td>\n",
              "      <td>2009/01/13</td>\n",
              "      <td>2009/04/28</td>\n",
              "    </tr>\n",
              "    <tr>\n",
              "      <th>12</th>\n",
              "      <td>Fall Semester 2009</td>\n",
              "      <td>2009/08/25</td>\n",
              "      <td>2009/12/08</td>\n",
              "    </tr>\n",
              "    <tr>\n",
              "      <th>13</th>\n",
              "      <td>January Term 2010</td>\n",
              "      <td>2010/01/04</td>\n",
              "      <td>2010/01/15</td>\n",
              "    </tr>\n",
              "    <tr>\n",
              "      <th>14</th>\n",
              "      <td>Spring Semester 2010</td>\n",
              "      <td>2010/01/20</td>\n",
              "      <td>2010/05/04</td>\n",
              "    </tr>\n",
              "    <tr>\n",
              "      <th>15</th>\n",
              "      <td>Fall Semester 2010</td>\n",
              "      <td>2010/08/24</td>\n",
              "      <td>2010/12/07</td>\n",
              "    </tr>\n",
              "    <tr>\n",
              "      <th>16</th>\n",
              "      <td>January Term 2011</td>\n",
              "      <td>2011/01/03</td>\n",
              "      <td>2011/01/14</td>\n",
              "    </tr>\n",
              "    <tr>\n",
              "      <th>17</th>\n",
              "      <td>Spring Semester 2011</td>\n",
              "      <td>2011/01/19</td>\n",
              "      <td>2011/05/03</td>\n",
              "    </tr>\n",
              "    <tr>\n",
              "      <th>18</th>\n",
              "      <td>Fall Semester 2011</td>\n",
              "      <td>2011/08/23</td>\n",
              "      <td>2011/12/06</td>\n",
              "    </tr>\n",
              "    <tr>\n",
              "      <th>19</th>\n",
              "      <td>January Term 2012</td>\n",
              "      <td>2012/01/03</td>\n",
              "      <td>2012/01/13</td>\n",
              "    </tr>\n",
              "    <tr>\n",
              "      <th>20</th>\n",
              "      <td>Spring Semester 2012</td>\n",
              "      <td>2012/01/18</td>\n",
              "      <td>2012/05/01</td>\n",
              "    </tr>\n",
              "    <tr>\n",
              "      <th>21</th>\n",
              "      <td>Fall Semester 2012</td>\n",
              "      <td>2012/08/28</td>\n",
              "      <td>2012/12/07</td>\n",
              "    </tr>\n",
              "    <tr>\n",
              "      <th>22</th>\n",
              "      <td>January Term 2013</td>\n",
              "      <td>2013/01/02</td>\n",
              "      <td>2013/01/11</td>\n",
              "    </tr>\n",
              "    <tr>\n",
              "      <th>23</th>\n",
              "      <td>Spring Semester 2013</td>\n",
              "      <td>2013/01/14</td>\n",
              "      <td>2013/04/30</td>\n",
              "    </tr>\n",
              "    <tr>\n",
              "      <th>24</th>\n",
              "      <td>Fall Semester 2013</td>\n",
              "      <td>2013/08/27</td>\n",
              "      <td>2013/12/06</td>\n",
              "    </tr>\n",
              "    <tr>\n",
              "      <th>25</th>\n",
              "      <td>January Term 2014</td>\n",
              "      <td>2014/01/02</td>\n",
              "      <td>2014/01/10</td>\n",
              "    </tr>\n",
              "    <tr>\n",
              "      <th>26</th>\n",
              "      <td>Spring Semester 2014</td>\n",
              "      <td>2014/01/13</td>\n",
              "      <td>2014/04/29</td>\n",
              "    </tr>\n",
              "    <tr>\n",
              "      <th>27</th>\n",
              "      <td>Fall Semester 2014</td>\n",
              "      <td>2014/08/26</td>\n",
              "      <td>2014/12/05</td>\n",
              "    </tr>\n",
              "    <tr>\n",
              "      <th>28</th>\n",
              "      <td>January Term 2015</td>\n",
              "      <td>2015/01/02</td>\n",
              "      <td>2015/01/10</td>\n",
              "    </tr>\n",
              "    <tr>\n",
              "      <th>29</th>\n",
              "      <td>Spring Semester 2015</td>\n",
              "      <td>2015/01/12</td>\n",
              "      <td>2015/04/28</td>\n",
              "    </tr>\n",
              "    <tr>\n",
              "      <th>30</th>\n",
              "      <td>Fall Semester 2015</td>\n",
              "      <td>2015/08/25</td>\n",
              "      <td>2015/12/08</td>\n",
              "    </tr>\n",
              "    <tr>\n",
              "      <th>31</th>\n",
              "      <td>January Term 2016</td>\n",
              "      <td>2016/01/04</td>\n",
              "      <td>2016/01/15</td>\n",
              "    </tr>\n",
              "    <tr>\n",
              "      <th>32</th>\n",
              "      <td>Spring Semester 2016</td>\n",
              "      <td>2016/01/20</td>\n",
              "      <td>2016/05/03</td>\n",
              "    </tr>\n",
              "    <tr>\n",
              "      <th>33</th>\n",
              "      <td>Fall Semester 2016</td>\n",
              "      <td>2016/08/23</td>\n",
              "      <td>2016/12/06</td>\n",
              "    </tr>\n",
              "    <tr>\n",
              "      <th>34</th>\n",
              "      <td>January Term 2017</td>\n",
              "      <td>2017/01/03</td>\n",
              "      <td>2017/01/13</td>\n",
              "    </tr>\n",
              "    <tr>\n",
              "      <th>35</th>\n",
              "      <td>Spring Semester 2017</td>\n",
              "      <td>2017/01/18</td>\n",
              "      <td>2017/05/02</td>\n",
              "    </tr>\n",
              "    <tr>\n",
              "      <th>36</th>\n",
              "      <td>Fall Semester 2017</td>\n",
              "      <td>2017/08/22</td>\n",
              "      <td>2017/12/05</td>\n",
              "    </tr>\n",
              "    <tr>\n",
              "      <th>37</th>\n",
              "      <td>January Term 2018</td>\n",
              "      <td>2018/01/02</td>\n",
              "      <td>2018/01/12</td>\n",
              "    </tr>\n",
              "    <tr>\n",
              "      <th>38</th>\n",
              "      <td>Spring Semester 2018</td>\n",
              "      <td>2018/01/17</td>\n",
              "      <td>2018/05/01</td>\n",
              "    </tr>\n",
              "    <tr>\n",
              "      <th>39</th>\n",
              "      <td>Fall Term 2018</td>\n",
              "      <td>2018/08/28</td>\n",
              "      <td>2018/12/07</td>\n",
              "    </tr>\n",
              "    <tr>\n",
              "      <th>40</th>\n",
              "      <td>January Term 2019</td>\n",
              "      <td>2019/01/02</td>\n",
              "      <td>2019/01/12</td>\n",
              "    </tr>\n",
              "    <tr>\n",
              "      <th>41</th>\n",
              "      <td>Spring Term 2019</td>\n",
              "      <td>2019/01/14</td>\n",
              "      <td>2019/04/30</td>\n",
              "    </tr>\n",
              "    <tr>\n",
              "      <th>42</th>\n",
              "      <td>Fall Term 2019</td>\n",
              "      <td>2019/08/27</td>\n",
              "      <td>2019/12/06</td>\n",
              "    </tr>\n",
              "    <tr>\n",
              "      <th>43</th>\n",
              "      <td>January Term 2020</td>\n",
              "      <td>2020/01/02</td>\n",
              "      <td>2020/01/11</td>\n",
              "    </tr>\n",
              "    <tr>\n",
              "      <th>44</th>\n",
              "      <td>Spring Term 2020</td>\n",
              "      <td>2020/01/13</td>\n",
              "      <td>2020/04/28</td>\n",
              "    </tr>\n",
              "    <tr>\n",
              "      <th>45</th>\n",
              "      <td>Fall Term 2020</td>\n",
              "      <td>2020/08/25</td>\n",
              "      <td>2020/11/24</td>\n",
              "    </tr>\n",
              "    <tr>\n",
              "      <th>46</th>\n",
              "      <td>January Term 2021</td>\n",
              "      <td>2021/01/04</td>\n",
              "      <td>2021/01/15</td>\n",
              "    </tr>\n",
              "    <tr>\n",
              "      <th>47</th>\n",
              "      <td>Spring Term 2021</td>\n",
              "      <td>2021/02/01</td>\n",
              "      <td>2021/05/06</td>\n",
              "    </tr>\n",
              "    <tr>\n",
              "      <th>48</th>\n",
              "      <td>Fall Term 2021</td>\n",
              "      <td>2021/08/24</td>\n",
              "      <td>2021/12/07</td>\n",
              "    </tr>\n",
              "    <tr>\n",
              "      <th>49</th>\n",
              "      <td>January Term 2022</td>\n",
              "      <td>2022/01/03</td>\n",
              "      <td>2022/01/14</td>\n",
              "    </tr>\n",
              "    <tr>\n",
              "      <th>50</th>\n",
              "      <td>Spring Term 2022</td>\n",
              "      <td>2022/01/19</td>\n",
              "      <td>2022/05/03</td>\n",
              "    </tr>\n",
              "    <tr>\n",
              "      <th>51</th>\n",
              "      <td>Fall Term 2022</td>\n",
              "      <td>2022/08/23</td>\n",
              "      <td>2022/12/06</td>\n",
              "    </tr>\n",
              "    <tr>\n",
              "      <th>52</th>\n",
              "      <td>January Term 2023</td>\n",
              "      <td>2023/01/02</td>\n",
              "      <td>2023/01/13</td>\n",
              "    </tr>\n",
              "    <tr>\n",
              "      <th>53</th>\n",
              "      <td>Spring Term 2023</td>\n",
              "      <td>2023/01/18</td>\n",
              "      <td>2023/05/02</td>\n",
              "    </tr>\n",
              "    <tr>\n",
              "      <th>54</th>\n",
              "      <td>Fall Term 2023</td>\n",
              "      <td>2023/08/22</td>\n",
              "      <td>2023/12/05</td>\n",
              "    </tr>\n",
              "    <tr>\n",
              "      <th>55</th>\n",
              "      <td>January Term 2024</td>\n",
              "      <td>2024/01/02</td>\n",
              "      <td>2024/01/12</td>\n",
              "    </tr>\n",
              "    <tr>\n",
              "      <th>56</th>\n",
              "      <td>Spring Term 2024</td>\n",
              "      <td>2024/01/17</td>\n",
              "      <td>2024/04/30</td>\n",
              "    </tr>\n",
              "    <tr>\n",
              "      <th>57</th>\n",
              "      <td>Fall 2024</td>\n",
              "      <td>2024/08/27</td>\n",
              "      <td>2024/12/06</td>\n",
              "    </tr>\n",
              "    <tr>\n",
              "      <th>58</th>\n",
              "      <td>Spring 2025</td>\n",
              "      <td>2025/01/13</td>\n",
              "      <td>2025/04/29</td>\n",
              "    </tr>\n",
              "  </tbody>\n",
              "</table>\n",
              "</div>"
            ],
            "text/plain": [
              "                Semester       Start         End\n",
              "0     Fall Semester 2005  2005/08/24  2005/12/06\n",
              "1      January Term 2006  2006/01/03  2006/01/16\n",
              "2   Spring Semester 2006  2006/01/18  2006/05/02\n",
              "3     Fall Semester 2006  2006/08/23  2006/12/05\n",
              "4      January Term 2007  2007/01/02  2007/01/12\n",
              "5   Spring Semester 2007  2007/01/17  2007/05/01\n",
              "6     Fall Semester 2007  2007/08/28  2007/12/07\n",
              "7      January Term 2008  2008/01/02  2008/01/11\n",
              "8   Spring Semester 2008  2008/01/16  2008/04/29\n",
              "9     Fall Semester 2008  2008/08/26  2008/12/05\n",
              "10     January Term 2009  2009/01/02  2009/01/10\n",
              "11  Spring Semester 2009  2009/01/13  2009/04/28\n",
              "12    Fall Semester 2009  2009/08/25  2009/12/08\n",
              "13     January Term 2010  2010/01/04  2010/01/15\n",
              "14  Spring Semester 2010  2010/01/20  2010/05/04\n",
              "15    Fall Semester 2010  2010/08/24  2010/12/07\n",
              "16     January Term 2011  2011/01/03  2011/01/14\n",
              "17  Spring Semester 2011  2011/01/19  2011/05/03\n",
              "18    Fall Semester 2011  2011/08/23  2011/12/06\n",
              "19     January Term 2012  2012/01/03  2012/01/13\n",
              "20  Spring Semester 2012  2012/01/18  2012/05/01\n",
              "21    Fall Semester 2012  2012/08/28  2012/12/07\n",
              "22     January Term 2013  2013/01/02  2013/01/11\n",
              "23  Spring Semester 2013  2013/01/14  2013/04/30\n",
              "24    Fall Semester 2013  2013/08/27  2013/12/06\n",
              "25     January Term 2014  2014/01/02  2014/01/10\n",
              "26  Spring Semester 2014  2014/01/13  2014/04/29\n",
              "27    Fall Semester 2014  2014/08/26  2014/12/05\n",
              "28     January Term 2015  2015/01/02  2015/01/10\n",
              "29  Spring Semester 2015  2015/01/12  2015/04/28\n",
              "30    Fall Semester 2015  2015/08/25  2015/12/08\n",
              "31     January Term 2016  2016/01/04  2016/01/15\n",
              "32  Spring Semester 2016  2016/01/20  2016/05/03\n",
              "33    Fall Semester 2016  2016/08/23  2016/12/06\n",
              "34     January Term 2017  2017/01/03  2017/01/13\n",
              "35  Spring Semester 2017  2017/01/18  2017/05/02\n",
              "36    Fall Semester 2017  2017/08/22  2017/12/05\n",
              "37     January Term 2018  2018/01/02  2018/01/12\n",
              "38  Spring Semester 2018  2018/01/17  2018/05/01\n",
              "39        Fall Term 2018  2018/08/28  2018/12/07\n",
              "40     January Term 2019  2019/01/02  2019/01/12\n",
              "41      Spring Term 2019  2019/01/14  2019/04/30\n",
              "42        Fall Term 2019  2019/08/27  2019/12/06\n",
              "43     January Term 2020  2020/01/02  2020/01/11\n",
              "44      Spring Term 2020  2020/01/13  2020/04/28\n",
              "45        Fall Term 2020  2020/08/25  2020/11/24\n",
              "46     January Term 2021  2021/01/04  2021/01/15\n",
              "47      Spring Term 2021  2021/02/01  2021/05/06\n",
              "48        Fall Term 2021  2021/08/24  2021/12/07\n",
              "49     January Term 2022  2022/01/03  2022/01/14\n",
              "50      Spring Term 2022  2022/01/19  2022/05/03\n",
              "51        Fall Term 2022  2022/08/23  2022/12/06\n",
              "52     January Term 2023  2023/01/02  2023/01/13\n",
              "53      Spring Term 2023  2023/01/18  2023/05/02\n",
              "54        Fall Term 2023  2023/08/22  2023/12/05\n",
              "55     January Term 2024  2024/01/02  2024/01/12\n",
              "56      Spring Term 2024  2024/01/17  2024/04/30\n",
              "57             Fall 2024  2024/08/27  2024/12/06\n",
              "58           Spring 2025  2025/01/13  2025/04/29"
            ]
          },
          "execution_count": 15,
          "metadata": {},
          "output_type": "execute_result"
        }
      ],
      "source": [
        "import numpy as np\n",
        "from datetime import datetime\n",
        "\n",
        "df_dates = pd.DataFrame(columns=['Semester','Start', 'End'])\n",
        "\n",
        "\n",
        "rows_to_add = []\n",
        "\n",
        "for i in range(0, len(events), 2):\n",
        "  start = events[i]\n",
        "  end = events[i+1]\n",
        "  length = len(start[0])\n",
        "  year = start[0][length - 4 : ]\n",
        "\n",
        "  # cleaning to get dates\n",
        "  start_date_str = start[2].split(',')[1].split('-')[0].split('(')[0].strip() + ', '+ year\n",
        "  end_date_str = end[2].split(',')[1].split('No ')[0].split('(')[0].strip()  + ', ' + year\n",
        "\n",
        "  # Converting strings to datetime objects\n",
        "  start_date = datetime.strptime(start_date_str, \"%B %d, %Y\")\n",
        "  end_date = datetime.strptime(end_date_str, \"%B %d, %Y\")\n",
        "\n",
        "  # Formatting dates to desired format\n",
        "  start_date_formatted = start_date.strftime(\"%Y/%m/%d\")\n",
        "  end_date_formatted = end_date.strftime(\"%Y/%m/%d\")\n",
        "\n",
        "\n",
        "\n",
        "  #print(events[i][0])\n",
        "  #print(start_date)\n",
        "  #print(end_date)\n",
        "  #print('\\n')\n",
        "\n",
        "  add = [events[i][0], start_date_formatted, end_date_formatted]\n",
        "  rows_to_add.append(add)\n",
        "\n",
        "df_dates = pd.concat([df_dates, pd.DataFrame(rows_to_add, columns=df_dates.columns)], ignore_index=True)\n",
        "\n",
        "\n",
        "df_dates"
      ]
    },
    {
      "cell_type": "code",
      "execution_count": 23,
      "metadata": {},
      "outputs": [
        {
          "name": "stdout",
          "output_type": "stream",
          "text": [
            "Fall semester starts earliest in: 2005/08/24\n",
            "Fall semester starts latest in: 2024/08/27\n",
            "Fall semester ends earliest in: 2005/12/06\n",
            "Fall semester ends latest in: 2024/12/06\n",
            "Spring semester earliest start: 2006/01/18\n",
            "Spring semester latest start: 2025/01/13\n",
            "Spring semester earliest end: 2006/05/02\n",
            "Spring semester latest end: 2025/04/29\n",
            "J-Term earliest start: 2006/01/03\n",
            "J-Term latest start: 2024/01/02\n",
            "J-Term earliest end: 2006/01/16\n",
            "J-Term latest end: 2024/01/12\n"
          ]
        }
      ],
      "source": [
        "fall_dates = df_dates[df_dates[\"Semester\"].str.contains(\"Fall\")]\n",
        "print(f\"Fall semester starts earliest in: {fall_dates['Start'].min()}\")\n",
        "print(f\"Fall semester starts latest in: {fall_dates['Start'].max()}\")\n",
        "\n",
        "print(f\"Fall semester ends earliest in: {fall_dates['End'].min()}\")\n",
        "print(f\"Fall semester ends latest in: {fall_dates['End'].max()}\")\n",
        "\n",
        "spring_dates = df_dates[df_dates[\"Semester\"].str.contains(\"Spring\")]\n",
        "print(f\"Spring semester earliest start: {spring_dates['Start'].min()}\")\n",
        "print(f\"Spring semester latest start: {spring_dates['Start'].max()}\")\n",
        "print(f\"Spring semester earliest end: {spring_dates['End'].min()}\")\n",
        "print(f\"Spring semester latest end: {spring_dates['End'].max()}\")\n",
        "\n",
        "jterm_dates = df_dates[df_dates[\"Semester\"].str.contains(\"January\")]\n",
        "print(f\"J-Term earliest start: {jterm_dates['Start'].min()}\")\n",
        "print(f\"J-Term latest start: {jterm_dates['Start'].max()}\")\n",
        "print(f\"J-Term earliest end: {jterm_dates['End'].min()}\")\n",
        "print(f\"J-Term latest end: {jterm_dates['End'].max()}\")"
      ]
    },
    {
      "cell_type": "markdown",
      "metadata": {
        "id": "H5Gfcv4gAw5K"
      },
      "source": [
        "### Adding During UVA Semesters To Main Table"
      ]
    },
    {
      "cell_type": "code",
      "execution_count": 18,
      "metadata": {
        "colab": {
          "base_uri": "https://localhost:8080/"
        },
        "id": "UXGZNp-vBX4H",
        "outputId": "c2cda9ad-df52-473e-c336-0b0553617fc8"
      },
      "outputs": [
        {
          "data": {
            "text/plain": [
              "1"
            ]
          },
          "execution_count": 18,
          "metadata": {},
          "output_type": "execute_result"
        }
      ],
      "source": [
        "def inSession(given):\n",
        "  given = str(given)\n",
        "  g = datetime.strptime(given.split(\" \")[0], \"%Y-%m-%d\") # 2024/10/02 00:24:02+00\n",
        "  start = df_dates['Start'].tolist()\n",
        "  end = df_dates['End'].tolist()\n",
        "\n",
        "  #print(g)\n",
        "\n",
        "  for i in range(len(start)):\n",
        "    start_date = start[i]\n",
        "    end_date = end[i]\n",
        "    #print(datetime.strptime(start_date.split(\" \")[0], \"%Y/%m/%d\"))\n",
        "    #print(datetime.strptime(end_date.split(\" \")[0], \"%Y/%m/%d\"))\n",
        "\n",
        "    if datetime.strptime(start_date.split(\" \")[0], \"%Y/%m/%d\") <= g <= datetime.strptime(end_date.split(\" \")[0], \"%Y/%m/%d\"):\n",
        "      return 1\n",
        "\n",
        "  return 0\n",
        "\n",
        "\n",
        "\n",
        "inSession(crime['DateReported'][9009])"
      ]
    },
    {
      "cell_type": "code",
      "execution_count": 19,
      "metadata": {
        "colab": {
          "base_uri": "https://localhost:8080/",
          "height": 313
        },
        "id": "oVlSmk0SA3nL",
        "outputId": "f2ded8e0-476a-4c7e-a26b-2266979b3980"
      },
      "outputs": [
        {
          "data": {
            "text/html": [
              "<div>\n",
              "<style scoped>\n",
              "    .dataframe tbody tr th:only-of-type {\n",
              "        vertical-align: middle;\n",
              "    }\n",
              "\n",
              "    .dataframe tbody tr th {\n",
              "        vertical-align: top;\n",
              "    }\n",
              "\n",
              "    .dataframe thead th {\n",
              "        text-align: right;\n",
              "    }\n",
              "</style>\n",
              "<table border=\"1\" class=\"dataframe\">\n",
              "  <thead>\n",
              "    <tr style=\"text-align: right;\">\n",
              "      <th></th>\n",
              "      <th>RecordID</th>\n",
              "      <th>Offense</th>\n",
              "      <th>IncidentID</th>\n",
              "      <th>BlockNumber</th>\n",
              "      <th>StreetName</th>\n",
              "      <th>Agency</th>\n",
              "      <th>DateReported</th>\n",
              "      <th>HourReported</th>\n",
              "      <th>ReportingOfficer</th>\n",
              "      <th>InSession</th>\n",
              "    </tr>\n",
              "  </thead>\n",
              "  <tbody>\n",
              "    <tr>\n",
              "      <th>0</th>\n",
              "      <td>1</td>\n",
              "      <td>Assist Citizen</td>\n",
              "      <td>202400034093</td>\n",
              "      <td>900.0</td>\n",
              "      <td>ELLIOTT AVE, A</td>\n",
              "      <td>CPD</td>\n",
              "      <td>2024-10-01 20:24:02-04:00</td>\n",
              "      <td>2024</td>\n",
              "      <td>Venereo, Arturo</td>\n",
              "      <td>1</td>\n",
              "    </tr>\n",
              "    <tr>\n",
              "      <th>1</th>\n",
              "      <td>2</td>\n",
              "      <td>Larceny</td>\n",
              "      <td>202400034075</td>\n",
              "      <td>1600.0</td>\n",
              "      <td>6TH ST SE, 28</td>\n",
              "      <td>CPD</td>\n",
              "      <td>2024-10-01 17:38:47-04:00</td>\n",
              "      <td>1738</td>\n",
              "      <td>Kirby, Tyree</td>\n",
              "      <td>1</td>\n",
              "    </tr>\n",
              "    <tr>\n",
              "      <th>2</th>\n",
              "      <td>3</td>\n",
              "      <td>Hit and Run</td>\n",
              "      <td>202400034071</td>\n",
              "      <td>900.0</td>\n",
              "      <td>EMMET ST N</td>\n",
              "      <td>CPD</td>\n",
              "      <td>2024-10-01 17:11:45-04:00</td>\n",
              "      <td>1711</td>\n",
              "      <td>Bland, Johnnà</td>\n",
              "      <td>1</td>\n",
              "    </tr>\n",
              "    <tr>\n",
              "      <th>3</th>\n",
              "      <td>4</td>\n",
              "      <td>Disorderly Conduct</td>\n",
              "      <td>202400034068</td>\n",
              "      <td>900.0</td>\n",
              "      <td>ST CLAIR AVE, A</td>\n",
              "      <td>CPD</td>\n",
              "      <td>2024-10-01 16:59:17-04:00</td>\n",
              "      <td>1659</td>\n",
              "      <td>Prevost, Payten</td>\n",
              "      <td>1</td>\n",
              "    </tr>\n",
              "    <tr>\n",
              "      <th>4</th>\n",
              "      <td>5</td>\n",
              "      <td>Lost/FoundProperty</td>\n",
              "      <td>202400034047</td>\n",
              "      <td>700.0</td>\n",
              "      <td>RUGBY RD</td>\n",
              "      <td>CPD</td>\n",
              "      <td>2024-10-01 14:23:15-04:00</td>\n",
              "      <td>1423</td>\n",
              "      <td>Brannon, Devin</td>\n",
              "      <td>1</td>\n",
              "    </tr>\n",
              "  </tbody>\n",
              "</table>\n",
              "</div>"
            ],
            "text/plain": [
              "   RecordID             Offense    IncidentID  BlockNumber       StreetName  \\\n",
              "0         1      Assist Citizen  202400034093        900.0   ELLIOTT AVE, A   \n",
              "1         2             Larceny  202400034075       1600.0    6TH ST SE, 28   \n",
              "2         3         Hit and Run  202400034071        900.0       EMMET ST N   \n",
              "3         4  Disorderly Conduct  202400034068        900.0  ST CLAIR AVE, A   \n",
              "4         5  Lost/FoundProperty  202400034047        700.0         RUGBY RD   \n",
              "\n",
              "  Agency              DateReported  HourReported ReportingOfficer  InSession  \n",
              "0    CPD 2024-10-01 20:24:02-04:00          2024  Venereo, Arturo          1  \n",
              "1    CPD 2024-10-01 17:38:47-04:00          1738     Kirby, Tyree          1  \n",
              "2    CPD 2024-10-01 17:11:45-04:00          1711    Bland, Johnnà          1  \n",
              "3    CPD 2024-10-01 16:59:17-04:00          1659  Prevost, Payten          1  \n",
              "4    CPD 2024-10-01 14:23:15-04:00          1423   Brannon, Devin          1  "
            ]
          },
          "execution_count": 19,
          "metadata": {},
          "output_type": "execute_result"
        }
      ],
      "source": [
        "crime[\"InSession\"] = crime['DateReported'].apply(inSession)\n",
        "\n",
        "crime.head()"
      ]
    },
    {
      "cell_type": "markdown",
      "metadata": {
        "id": "mmOx6vye6g7u"
      },
      "source": [
        "# Adding Other Variables"
      ]
    },
    {
      "cell_type": "markdown",
      "metadata": {
        "id": "5HC87JYu6niL"
      },
      "source": [
        "### Day Of the Week"
      ]
    },
    {
      "cell_type": "code",
      "execution_count": 20,
      "metadata": {
        "colab": {
          "base_uri": "https://localhost:8080/",
          "height": 35
        },
        "id": "3GTgDO1W7Hn9",
        "outputId": "ebdd9f48-26e7-4003-b36b-526c0a674c4a"
      },
      "outputs": [
        {
          "data": {
            "text/plain": [
              "'Tuesday'"
            ]
          },
          "execution_count": 20,
          "metadata": {},
          "output_type": "execute_result"
        }
      ],
      "source": [
        "# Method that converts the date to the day of the week\n",
        "def toDayOfWeek(date):\n",
        "  date = str(date)\n",
        "  date = datetime.strptime(date.split(\" \")[0], \"%Y-%m-%d\") # 2024/10/02 00:24:02+00\n",
        "  day = date.strftime(\"%A\")\n",
        "  return day\n",
        "\n",
        "toDayOfWeek(crime['DateReported'][0])"
      ]
    },
    {
      "cell_type": "code",
      "execution_count": 21,
      "metadata": {
        "colab": {
          "base_uri": "https://localhost:8080/",
          "height": 313
        },
        "id": "Y8mEExIW8p4L",
        "outputId": "a44236f1-1551-4cbd-96eb-26dbcd05a505"
      },
      "outputs": [
        {
          "data": {
            "text/html": [
              "<div>\n",
              "<style scoped>\n",
              "    .dataframe tbody tr th:only-of-type {\n",
              "        vertical-align: middle;\n",
              "    }\n",
              "\n",
              "    .dataframe tbody tr th {\n",
              "        vertical-align: top;\n",
              "    }\n",
              "\n",
              "    .dataframe thead th {\n",
              "        text-align: right;\n",
              "    }\n",
              "</style>\n",
              "<table border=\"1\" class=\"dataframe\">\n",
              "  <thead>\n",
              "    <tr style=\"text-align: right;\">\n",
              "      <th></th>\n",
              "      <th>RecordID</th>\n",
              "      <th>Offense</th>\n",
              "      <th>IncidentID</th>\n",
              "      <th>BlockNumber</th>\n",
              "      <th>StreetName</th>\n",
              "      <th>Agency</th>\n",
              "      <th>DateReported</th>\n",
              "      <th>HourReported</th>\n",
              "      <th>ReportingOfficer</th>\n",
              "      <th>InSession</th>\n",
              "      <th>DayOfWeek</th>\n",
              "    </tr>\n",
              "  </thead>\n",
              "  <tbody>\n",
              "    <tr>\n",
              "      <th>0</th>\n",
              "      <td>1</td>\n",
              "      <td>Assist Citizen</td>\n",
              "      <td>202400034093</td>\n",
              "      <td>900.0</td>\n",
              "      <td>ELLIOTT AVE, A</td>\n",
              "      <td>CPD</td>\n",
              "      <td>2024-10-01 20:24:02-04:00</td>\n",
              "      <td>2024</td>\n",
              "      <td>Venereo, Arturo</td>\n",
              "      <td>1</td>\n",
              "      <td>Tuesday</td>\n",
              "    </tr>\n",
              "    <tr>\n",
              "      <th>1</th>\n",
              "      <td>2</td>\n",
              "      <td>Larceny</td>\n",
              "      <td>202400034075</td>\n",
              "      <td>1600.0</td>\n",
              "      <td>6TH ST SE, 28</td>\n",
              "      <td>CPD</td>\n",
              "      <td>2024-10-01 17:38:47-04:00</td>\n",
              "      <td>1738</td>\n",
              "      <td>Kirby, Tyree</td>\n",
              "      <td>1</td>\n",
              "      <td>Tuesday</td>\n",
              "    </tr>\n",
              "    <tr>\n",
              "      <th>2</th>\n",
              "      <td>3</td>\n",
              "      <td>Hit and Run</td>\n",
              "      <td>202400034071</td>\n",
              "      <td>900.0</td>\n",
              "      <td>EMMET ST N</td>\n",
              "      <td>CPD</td>\n",
              "      <td>2024-10-01 17:11:45-04:00</td>\n",
              "      <td>1711</td>\n",
              "      <td>Bland, Johnnà</td>\n",
              "      <td>1</td>\n",
              "      <td>Tuesday</td>\n",
              "    </tr>\n",
              "    <tr>\n",
              "      <th>3</th>\n",
              "      <td>4</td>\n",
              "      <td>Disorderly Conduct</td>\n",
              "      <td>202400034068</td>\n",
              "      <td>900.0</td>\n",
              "      <td>ST CLAIR AVE, A</td>\n",
              "      <td>CPD</td>\n",
              "      <td>2024-10-01 16:59:17-04:00</td>\n",
              "      <td>1659</td>\n",
              "      <td>Prevost, Payten</td>\n",
              "      <td>1</td>\n",
              "      <td>Tuesday</td>\n",
              "    </tr>\n",
              "    <tr>\n",
              "      <th>4</th>\n",
              "      <td>5</td>\n",
              "      <td>Lost/FoundProperty</td>\n",
              "      <td>202400034047</td>\n",
              "      <td>700.0</td>\n",
              "      <td>RUGBY RD</td>\n",
              "      <td>CPD</td>\n",
              "      <td>2024-10-01 14:23:15-04:00</td>\n",
              "      <td>1423</td>\n",
              "      <td>Brannon, Devin</td>\n",
              "      <td>1</td>\n",
              "      <td>Tuesday</td>\n",
              "    </tr>\n",
              "  </tbody>\n",
              "</table>\n",
              "</div>"
            ],
            "text/plain": [
              "   RecordID             Offense    IncidentID  BlockNumber       StreetName  \\\n",
              "0         1      Assist Citizen  202400034093        900.0   ELLIOTT AVE, A   \n",
              "1         2             Larceny  202400034075       1600.0    6TH ST SE, 28   \n",
              "2         3         Hit and Run  202400034071        900.0       EMMET ST N   \n",
              "3         4  Disorderly Conduct  202400034068        900.0  ST CLAIR AVE, A   \n",
              "4         5  Lost/FoundProperty  202400034047        700.0         RUGBY RD   \n",
              "\n",
              "  Agency              DateReported  HourReported ReportingOfficer  InSession  \\\n",
              "0    CPD 2024-10-01 20:24:02-04:00          2024  Venereo, Arturo          1   \n",
              "1    CPD 2024-10-01 17:38:47-04:00          1738     Kirby, Tyree          1   \n",
              "2    CPD 2024-10-01 17:11:45-04:00          1711    Bland, Johnnà          1   \n",
              "3    CPD 2024-10-01 16:59:17-04:00          1659  Prevost, Payten          1   \n",
              "4    CPD 2024-10-01 14:23:15-04:00          1423   Brannon, Devin          1   \n",
              "\n",
              "  DayOfWeek  \n",
              "0   Tuesday  \n",
              "1   Tuesday  \n",
              "2   Tuesday  \n",
              "3   Tuesday  \n",
              "4   Tuesday  "
            ]
          },
          "execution_count": 21,
          "metadata": {},
          "output_type": "execute_result"
        }
      ],
      "source": [
        "crime[\"DayOfWeek\"] = crime['DateReported'].apply(toDayOfWeek)\n",
        "\n",
        "crime.head()"
      ]
    },
    {
      "cell_type": "markdown",
      "metadata": {
        "id": "_l5fJoVS8-dJ"
      },
      "source": [
        "### Sunset Variable"
      ]
    },
    {
      "cell_type": "code",
      "execution_count": 22,
      "metadata": {
        "colab": {
          "base_uri": "https://localhost:8080/"
        },
        "id": "0siuStXv6kzZ",
        "outputId": "acff76aa-9b9e-4d56-aadc-87f30252e71f"
      },
      "outputs": [
        {
          "name": "stdout",
          "output_type": "stream",
          "text": [
            "Collecting astral\n",
            "  Downloading astral-3.2-py3-none-any.whl.metadata (1.7 kB)\n",
            "Downloading astral-3.2-py3-none-any.whl (38 kB)\n",
            "Installing collected packages: astral\n",
            "Successfully installed astral-3.2\n"
          ]
        }
      ],
      "source": [
        "! pip3 install astral\n"
      ]
    },
    {
      "cell_type": "code",
      "execution_count": 23,
      "metadata": {
        "colab": {
          "base_uri": "https://localhost:8080/",
          "height": 107
        },
        "id": "PcUdINH5sXqW",
        "outputId": "8fb80aaf-c433-4972-82a6-f2d864388ff9"
      },
      "outputs": [
        {
          "name": "stdout",
          "output_type": "stream",
          "text": [
            "Information for Richmond/USA\n",
            "Timezone: America/New_York\n",
            "Latitude: 37.54; Longitude: -77.43\n",
            "\n"
          ]
        },
        {
          "data": {
            "text/plain": [
              "'Dusk'"
            ]
          },
          "execution_count": 23,
          "metadata": {},
          "output_type": "execute_result"
        }
      ],
      "source": [
        "from astral import LocationInfo\n",
        "from datetime import datetime, timedelta\n",
        "import pytz\n",
        "\n",
        "city = LocationInfo(\"Richmond\", \"USA\", \"America/New_York\", 37.54, -77.43)\n",
        "print((\n",
        "    f\"Information for {city.name}/{city.region}\\n\"\n",
        "    f\"Timezone: {city.timezone}\\n\"\n",
        "    f\"Latitude: {city.latitude:.02f}; Longitude: {city.longitude:.02f}\\n\"\n",
        "))\n",
        "\n",
        "eastern = pytz.timezone(\"America/New_York\")\n",
        "\n",
        "def sunsetData(date):\n",
        "    try:\n",
        "        day = str(date)\n",
        "\n",
        "        #print(day)\n",
        "        #print(type(day))\n",
        "\n",
        "        day = datetime.strptime(day.split(\" \")[0], \"%Y-%m-%d\")\n",
        "\n",
        "        #print(type(day))\n",
        "        from astral.sun import sun\n",
        "\n",
        "        s = sun(city.observer, date=day)\n",
        "        dawn = s[\"dawn\"].astimezone(eastern)\n",
        "        sunrise = s[\"sunrise\"].astimezone(eastern)\n",
        "        noon = s[\"noon\"].astimezone(eastern)\n",
        "        sunset = s[\"sunset\"].astimezone(eastern)\n",
        "        dusk = s[\"dusk\"].astimezone(eastern)\n",
        "\n",
        "\n",
        "        if dawn <= date < sunrise:\n",
        "            return \"Dawn\"\n",
        "        elif sunrise <= date < noon:\n",
        "            return \"Sunrise\"\n",
        "        elif noon <= date < sunset:\n",
        "            return \"Noon\"\n",
        "        elif sunset <= date < dusk:\n",
        "            return \"Sunset\"\n",
        "        else:\n",
        "            return \"Dusk\"\n",
        "    except ValueError as e:\n",
        "        #print(f\"Error: {e} for date {date}\")\n",
        "        #print( f\"Error: Unable to determine sunset time for date {date}\")\n",
        "        return np.nan\n",
        "\n",
        "sunsetData(crime[\"DateReported\"][0])\n"
      ]
    },
    {
      "cell_type": "code",
      "execution_count": 24,
      "metadata": {
        "colab": {
          "base_uri": "https://localhost:8080/",
          "height": 313
        },
        "id": "FUywCKuBroEI",
        "outputId": "a2f7b04c-e9c4-4e0f-8bb2-4a0dc1a39872"
      },
      "outputs": [
        {
          "data": {
            "text/html": [
              "<div>\n",
              "<style scoped>\n",
              "    .dataframe tbody tr th:only-of-type {\n",
              "        vertical-align: middle;\n",
              "    }\n",
              "\n",
              "    .dataframe tbody tr th {\n",
              "        vertical-align: top;\n",
              "    }\n",
              "\n",
              "    .dataframe thead th {\n",
              "        text-align: right;\n",
              "    }\n",
              "</style>\n",
              "<table border=\"1\" class=\"dataframe\">\n",
              "  <thead>\n",
              "    <tr style=\"text-align: right;\">\n",
              "      <th></th>\n",
              "      <th>RecordID</th>\n",
              "      <th>Offense</th>\n",
              "      <th>IncidentID</th>\n",
              "      <th>BlockNumber</th>\n",
              "      <th>StreetName</th>\n",
              "      <th>Agency</th>\n",
              "      <th>DateReported</th>\n",
              "      <th>HourReported</th>\n",
              "      <th>ReportingOfficer</th>\n",
              "      <th>InSession</th>\n",
              "      <th>DayOfWeek</th>\n",
              "      <th>TimeOfDay_Adjusted</th>\n",
              "    </tr>\n",
              "  </thead>\n",
              "  <tbody>\n",
              "    <tr>\n",
              "      <th>0</th>\n",
              "      <td>1</td>\n",
              "      <td>Assist Citizen</td>\n",
              "      <td>202400034093</td>\n",
              "      <td>900.0</td>\n",
              "      <td>ELLIOTT AVE, A</td>\n",
              "      <td>CPD</td>\n",
              "      <td>2024-10-01 20:24:02-04:00</td>\n",
              "      <td>2024</td>\n",
              "      <td>Venereo, Arturo</td>\n",
              "      <td>1</td>\n",
              "      <td>Tuesday</td>\n",
              "      <td>Dusk</td>\n",
              "    </tr>\n",
              "    <tr>\n",
              "      <th>1</th>\n",
              "      <td>2</td>\n",
              "      <td>Larceny</td>\n",
              "      <td>202400034075</td>\n",
              "      <td>1600.0</td>\n",
              "      <td>6TH ST SE, 28</td>\n",
              "      <td>CPD</td>\n",
              "      <td>2024-10-01 17:38:47-04:00</td>\n",
              "      <td>1738</td>\n",
              "      <td>Kirby, Tyree</td>\n",
              "      <td>1</td>\n",
              "      <td>Tuesday</td>\n",
              "      <td>Noon</td>\n",
              "    </tr>\n",
              "    <tr>\n",
              "      <th>2</th>\n",
              "      <td>3</td>\n",
              "      <td>Hit and Run</td>\n",
              "      <td>202400034071</td>\n",
              "      <td>900.0</td>\n",
              "      <td>EMMET ST N</td>\n",
              "      <td>CPD</td>\n",
              "      <td>2024-10-01 17:11:45-04:00</td>\n",
              "      <td>1711</td>\n",
              "      <td>Bland, Johnnà</td>\n",
              "      <td>1</td>\n",
              "      <td>Tuesday</td>\n",
              "      <td>Noon</td>\n",
              "    </tr>\n",
              "    <tr>\n",
              "      <th>3</th>\n",
              "      <td>4</td>\n",
              "      <td>Disorderly Conduct</td>\n",
              "      <td>202400034068</td>\n",
              "      <td>900.0</td>\n",
              "      <td>ST CLAIR AVE, A</td>\n",
              "      <td>CPD</td>\n",
              "      <td>2024-10-01 16:59:17-04:00</td>\n",
              "      <td>1659</td>\n",
              "      <td>Prevost, Payten</td>\n",
              "      <td>1</td>\n",
              "      <td>Tuesday</td>\n",
              "      <td>Noon</td>\n",
              "    </tr>\n",
              "    <tr>\n",
              "      <th>4</th>\n",
              "      <td>5</td>\n",
              "      <td>Lost/FoundProperty</td>\n",
              "      <td>202400034047</td>\n",
              "      <td>700.0</td>\n",
              "      <td>RUGBY RD</td>\n",
              "      <td>CPD</td>\n",
              "      <td>2024-10-01 14:23:15-04:00</td>\n",
              "      <td>1423</td>\n",
              "      <td>Brannon, Devin</td>\n",
              "      <td>1</td>\n",
              "      <td>Tuesday</td>\n",
              "      <td>Noon</td>\n",
              "    </tr>\n",
              "  </tbody>\n",
              "</table>\n",
              "</div>"
            ],
            "text/plain": [
              "   RecordID             Offense    IncidentID  BlockNumber       StreetName  \\\n",
              "0         1      Assist Citizen  202400034093        900.0   ELLIOTT AVE, A   \n",
              "1         2             Larceny  202400034075       1600.0    6TH ST SE, 28   \n",
              "2         3         Hit and Run  202400034071        900.0       EMMET ST N   \n",
              "3         4  Disorderly Conduct  202400034068        900.0  ST CLAIR AVE, A   \n",
              "4         5  Lost/FoundProperty  202400034047        700.0         RUGBY RD   \n",
              "\n",
              "  Agency              DateReported  HourReported ReportingOfficer  InSession  \\\n",
              "0    CPD 2024-10-01 20:24:02-04:00          2024  Venereo, Arturo          1   \n",
              "1    CPD 2024-10-01 17:38:47-04:00          1738     Kirby, Tyree          1   \n",
              "2    CPD 2024-10-01 17:11:45-04:00          1711    Bland, Johnnà          1   \n",
              "3    CPD 2024-10-01 16:59:17-04:00          1659  Prevost, Payten          1   \n",
              "4    CPD 2024-10-01 14:23:15-04:00          1423   Brannon, Devin          1   \n",
              "\n",
              "  DayOfWeek TimeOfDay_Adjusted  \n",
              "0   Tuesday               Dusk  \n",
              "1   Tuesday               Noon  \n",
              "2   Tuesday               Noon  \n",
              "3   Tuesday               Noon  \n",
              "4   Tuesday               Noon  "
            ]
          },
          "execution_count": 24,
          "metadata": {},
          "output_type": "execute_result"
        }
      ],
      "source": [
        "crime[\"TimeOfDay_Adjusted\"] = crime['DateReported'].apply(sunsetData)\n",
        "\n",
        "crime.head()"
      ]
    },
    {
      "cell_type": "code",
      "execution_count": 25,
      "metadata": {
        "colab": {
          "base_uri": "https://localhost:8080/"
        },
        "id": "5b5GwiWsvDmd",
        "outputId": "2c70665c-c4c9-4e83-ead6-1830923883bc"
      },
      "outputs": [
        {
          "name": "stdout",
          "output_type": "stream",
          "text": [
            "119\n",
            "Unique values in 'TimeOfDay_Adjusted': ['Dusk' 'Noon' 'Sunrise' 'Sunset' 'Dawn' nan]\n"
          ]
        }
      ],
      "source": [
        "print(crime['TimeOfDay_Adjusted'].isna().sum())\n",
        "\n",
        "unique_values = crime['TimeOfDay_Adjusted'].unique()\n",
        "print(f\"Unique values in 'TimeOfDay_Adjusted': {unique_values}\")"
      ]
    },
    {
      "cell_type": "markdown",
      "metadata": {
        "id": "qRCaRZbR3Ifc"
      },
      "source": [
        "# EDA"
      ]
    },
    {
      "cell_type": "code",
      "execution_count": 26,
      "metadata": {
        "colab": {
          "base_uri": "https://localhost:8080/",
          "height": 627
        },
        "id": "-eAz2EPiKo67",
        "outputId": "30adeb7a-7775-4511-b6ae-97fe2382666f"
      },
      "outputs": [
        {
          "data": {
            "image/png": "[encoded data removed]",
            "text/plain": [
              "<Figure size 1000x600 with 1 Axes>"
            ]
          },
          "metadata": {},
          "output_type": "display_data"
        }
      ],
      "source": [
        "import matplotlib.pyplot as plt\n",
        "\n",
        "offense_counts = crime['Offense'].value_counts().nlargest(10)\n",
        "\n",
        "plt.figure(figsize=(10, 6))\n",
        "plt.bar(offense_counts.index, offense_counts.values)\n",
        "plt.xlabel(\"Offense\")\n",
        "plt.ylabel(\"Frequency\")\n",
        "plt.title(\"Most Frequent Offenses\")\n",
        "plt.xticks(rotation=45, ha='right')\n",
        "plt.tight_layout()\n",
        "plt.show()"
      ]
    },
    {
      "cell_type": "code",
      "execution_count": 27,
      "metadata": {
        "id": "SP_2IOuXQAtc"
      },
      "outputs": [],
      "source": [
        "def categorize_time(hour):\n",
        "    if 6 <= hour < 12:\n",
        "        return 'Morning'\n",
        "    elif 12 <= hour < 18:\n",
        "        return 'Afternoon'\n",
        "    else:\n",
        "        return 'Night'\n",
        "\n",
        "crime['TimeOfDay'] = crime['HourReported'].apply(categorize_time)"
      ]
    },
    {
      "cell_type": "code",
      "execution_count": 28,
      "metadata": {
        "colab": {
          "base_uri": "https://localhost:8080/",
          "height": 210
        },
        "id": "8qXnXdsOQLMh",
        "outputId": "fc580f6a-000d-4dd1-d8c5-545c9cab7299"
      },
      "outputs": [
        {
          "data": {
            "text/plain": [
              "TimeOfDay\n",
              "Night        24961\n",
              "Morning         77\n",
              "Afternoon       73\n",
              "Name: count, dtype: int64"
            ]
          },
          "execution_count": 28,
          "metadata": {},
          "output_type": "execute_result"
        }
      ],
      "source": [
        "crime['TimeOfDay'].value_counts()"
      ]
    },
    {
      "cell_type": "code",
      "execution_count": 29,
      "metadata": {
        "colab": {
          "base_uri": "https://localhost:8080/",
          "height": 607
        },
        "id": "ryhfwy2ZRACD",
        "outputId": "ca24dd56-195d-474c-d751-8d4014a1fd69"
      },
      "outputs": [
        {
          "data": {
            "image/png": "[encoded data removed]",
            "text/plain": [
              "<Figure size 1200x600 with 1 Axes>"
            ]
          },
          "metadata": {},
          "output_type": "display_data"
        }
      ],
      "source": [
        "import matplotlib.pyplot as plt\n",
        "import seaborn as sns\n",
        "\n",
        "top_10_offenses = crime['Offense'].value_counts().nlargest(10).index\n",
        "filtered_crime = crime[crime['Offense'].isin(top_10_offenses)]\n",
        "grouped_data = filtered_crime.groupby(['Offense', 'TimeOfDay'])['Offense'].count().reset_index(name='Count')\n",
        "plt.figure(figsize=(12, 6))\n",
        "sns.barplot(x='Offense', y='Count', hue='TimeOfDay', data=grouped_data)\n",
        "plt.xlabel(\"Offense\")\n",
        "plt.ylabel(\"Frequency\")\n",
        "plt.title(\"Offense Frequency by Time of Day (Top 10 Offenses)\")\n",
        "plt.xticks(rotation=45, ha='right')\n",
        "plt.tight_layout()\n",
        "plt.show()"
      ]
    },
    {
      "cell_type": "code",
      "execution_count": 30,
      "metadata": {
        "colab": {
          "base_uri": "https://localhost:8080/"
        },
        "id": "pcHVqWakROCJ",
        "outputId": "cacfabfe-7857-40f1-a537-ec11f52773b9"
      },
      "outputs": [
        {
          "name": "stdout",
          "output_type": "stream",
          "text": [
            "The most frequent offense in the morning is: Assault Simple\n",
            "The most frequent offense in the afternoon is: Assist Citizen\n",
            "The most frequent offense at night is: Larceny\n"
          ]
        }
      ],
      "source": [
        "morning_offenses = crime[crime['TimeOfDay'] == 'Morning']\n",
        "most_frequent_morning_offense = morning_offenses['Offense'].value_counts().idxmax()\n",
        "print(f\"The most frequent offense in the morning is: {most_frequent_morning_offense}\")\n",
        "\n",
        "afternoon_offenses = crime[crime['TimeOfDay'] == 'Afternoon']\n",
        "most_frequent_afternoon_offense = afternoon_offenses['Offense'].value_counts().idxmax()\n",
        "print(f\"The most frequent offense in the afternoon is: {most_frequent_afternoon_offense}\")\n",
        "\n",
        "night_offenses = crime[crime['TimeOfDay'] == 'Night']\n",
        "most_frequent_night_offense = night_offenses['Offense'].value_counts().idxmax()\n",
        "print(f\"The most frequent offense at night is: {most_frequent_night_offense}\")"
      ]
    },
    {
      "cell_type": "code",
      "execution_count": 31,
      "metadata": {
        "colab": {
          "base_uri": "https://localhost:8080/",
          "height": 607
        },
        "id": "yaum1MBuPoXh",
        "outputId": "44e3fc80-3160-42ea-9305-fc7d126246cd"
      },
      "outputs": [
        {
          "name": "stderr",
          "output_type": "stream",
          "text": [
            "/var/folders/r9/vr40l1ss0v71ty4xxtt_10j00000gn/T/ipykernel_62937/789457175.py:5: SettingWithCopyWarning: \n",
            "A value is trying to be set on a copy of a slice from a DataFrame.\n",
            "Try using .loc[row_indexer,col_indexer] = value instead\n",
            "\n",
            "See the caveats in the documentation: https://pandas.pydata.org/pandas-docs/stable/user_guide/indexing.html#returning-a-view-versus-a-copy\n",
            "  freq_crimes[\"DateReported\"] = pd.to_datetime(freq_crimes[\"DateReported\"])\n",
            "/var/folders/r9/vr40l1ss0v71ty4xxtt_10j00000gn/T/ipykernel_62937/789457175.py:6: UserWarning: Converting to PeriodArray/Index representation will drop timezone information.\n",
            "  freq_crimes[\"YearMonth\"] = freq_crimes[\"DateReported\"].dt.to_period(\"M\")\n",
            "/var/folders/r9/vr40l1ss0v71ty4xxtt_10j00000gn/T/ipykernel_62937/789457175.py:6: SettingWithCopyWarning: \n",
            "A value is trying to be set on a copy of a slice from a DataFrame.\n",
            "Try using .loc[row_indexer,col_indexer] = value instead\n",
            "\n",
            "See the caveats in the documentation: https://pandas.pydata.org/pandas-docs/stable/user_guide/indexing.html#returning-a-view-versus-a-copy\n",
            "  freq_crimes[\"YearMonth\"] = freq_crimes[\"DateReported\"].dt.to_period(\"M\")\n"
          ]
        },
        {
          "data": {
            "image/png": "[encoded data removed]",
            "text/plain": [
              "<Figure size 1200x600 with 1 Axes>"
            ]
          },
          "metadata": {},
          "output_type": "display_data"
        }
      ],
      "source": [
        "import matplotlib.pyplot as plt\n",
        "top_10_crimes = crime[\"Offense\"].value_counts().nlargest(10).index\n",
        "freq_crimes = crime[crime[\"Offense\"].isin(top_10_crimes)]\n",
        "\n",
        "freq_crimes[\"DateReported\"] = pd.to_datetime(freq_crimes[\"DateReported\"])\n",
        "freq_crimes[\"YearMonth\"] = freq_crimes[\"DateReported\"].dt.to_period(\"M\")\n",
        "crime_counts = freq_crimes.groupby([\"YearMonth\", \"Offense\"]).size().unstack()\n",
        "\n",
        "plt.figure(figsize=(12, 6))\n",
        "crime_counts.plot(kind=\"line\", marker=\"o\", ax=plt.gca())\n",
        "plt.title(\"Crime Frequency Over Time\")\n",
        "plt.xlabel(\"Date (Year-Month)\")\n",
        "plt.ylabel(\"Number of Crimes\")\n",
        "plt.legend(title=\"Crime Type\", bbox_to_anchor=(1.05, 1), loc=\"upper left\")\n",
        "plt.xticks(rotation=45)\n",
        "plt.grid(True)\n",
        "plt.show()\n"
      ]
    },
    {
      "cell_type": "markdown",
      "metadata": {},
      "source": [
        "## Export Cleaned Data to CSV"
      ]
    },
    {
      "cell_type": "code",
      "execution_count": 32,
      "metadata": {},
      "outputs": [],
      "source": [
        "# crime.to_csv('./cleaned_data.csv', index=False)"
      ]
    }
  ],
  "metadata": {
    "colab": {
      "include_colab_link": true,
      "provenance": []
    },
    "kernelspec": {
      "display_name": "base",
      "language": "python",
      "name": "base"
    },
    "language_info": {
      "codemirror_mode": {
        "name": "ipython",
        "version": 3
      },
      "file_extension": ".py",
      "mimetype": "text/x-python",
      "name": "python",
      "nbconvert_exporter": "python",
      "pygments_lexer": "ipython3",
      "version": "3.12.2"
    }
  },
  "nbformat": 4,
  "nbformat_minor": 0
}
